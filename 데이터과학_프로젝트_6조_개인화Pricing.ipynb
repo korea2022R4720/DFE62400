{
  "cells": [
    {
      "cell_type": "markdown",
      "metadata": {
        "id": "view-in-github",
        "colab_type": "text"
      },
      "source": [
        "<a href=\"https://colab.research.google.com/github/korea2022R4720/DFE62400/blob/main/%EB%8D%B0%EC%9D%B4%ED%84%B0%EA%B3%BC%ED%95%99_%ED%94%84%EB%A1%9C%EC%A0%9D%ED%8A%B8_6%EC%A1%B0_%EA%B0%9C%EC%9D%B8%ED%99%94Pricing.ipynb\" target=\"_parent\"><img src=\"https://colab.research.google.com/assets/colab-badge.svg\" alt=\"Open In Colab\"/></a>"
      ]
    },
    {
      "cell_type": "code",
      "execution_count": null,
      "metadata": {
        "id": "B6gkOWZssIkP",
        "outputId": "6282aad6-b4a7-4c57-8233-e0e86396981d"
      },
      "outputs": [
        {
          "name": "stderr",
          "output_type": "stream",
          "text": [
            "C:\\ProgramData\\Anaconda3\\lib\\site-packages\\sklearn\\ensemble\\weight_boosting.py:29: DeprecationWarning: numpy.core.umath_tests is an internal NumPy module and should not be imported. It will be removed in a future NumPy release.\n",
            "  from numpy.core.umath_tests import inner1d\n"
          ]
        }
      ],
      "source": [
        "import numpy as np\n",
        "import pandas as pd\n",
        "\n",
        "from sklearn.model_selection import train_test_split # train, test 값 분류\n",
        "from sklearn.linear_model import LinearRegression, LogisticRegression # 선현회귀모델\n",
        "from sklearn.neighbors import KNeighborsClassifier # KNN\n",
        "from sklearn.svm import SVC # SVC\n",
        "from sklearn.tree import DecisionTreeClassifier, export_graphviz, tree # 의사결정나무\n",
        "from sklearn.preprocessing import LabelEncoder, OneHotEncoder, MinMaxScaler\n",
        "\n",
        "from sklearn.ensemble import RandomForestRegressor, RandomForestClassifier\n",
        "from sklearn.metrics import confusion_matrix, mean_squared_error, accuracy_score, roc_curve, roc_auc_score\n",
        "\n",
        "from sklearn.neural_network import MLPClassifier\n",
        "from sklearn.ensemble import VotingClassifier\n",
        "import matplotlib.pyplot as plt\n",
        "\n",
        "from imblearn.under_sampling import RandomUnderSampler\n",
        "from imblearn.over_sampling import SMOTE\n",
        "from imblearn.over_sampling import RandomOverSampler"
      ]
    },
    {
      "cell_type": "markdown",
      "metadata": {
        "id": "dUlDjsKlsIkU"
      },
      "source": [
        "# 데이터준비"
      ]
    },
    {
      "cell_type": "code",
      "execution_count": null,
      "metadata": {
        "id": "X8XA--qlsIkW"
      },
      "outputs": [],
      "source": [
        "data = pd.read_csv(\"./Data/data_2019_all.txt\", sep = ',', encoding= 'UTF-8', low_memory=False)"
      ]
    },
    {
      "cell_type": "code",
      "execution_count": null,
      "metadata": {
        "id": "Rf8Pd58tsIkX",
        "outputId": "fa5306b0-99ea-4e57-b76e-7229be31d7eb"
      },
      "outputs": [
        {
          "data": {
            "text/html": [
              "<div>\n",
              "<style scoped>\n",
              "    .dataframe tbody tr th:only-of-type {\n",
              "        vertical-align: middle;\n",
              "    }\n",
              "\n",
              "    .dataframe tbody tr th {\n",
              "        vertical-align: top;\n",
              "    }\n",
              "\n",
              "    .dataframe thead th {\n",
              "        text-align: right;\n",
              "    }\n",
              "</style>\n",
              "<table border=\"1\" class=\"dataframe\">\n",
              "  <thead>\n",
              "    <tr style=\"text-align: right;\">\n",
              "      <th></th>\n",
              "      <th>SUCO_YM</th>\n",
              "      <th>PPNU_NO</th>\n",
              "      <th>ASSR_CS_NO</th>\n",
              "      <th>INON_NO</th>\n",
              "      <th>OGNZ_ASRT_CD</th>\n",
              "      <th>T_WY2_DANG_INP_FE</th>\n",
              "      <th>T_WY2_FUR_INS_AM</th>\n",
              "      <th>WY2_DMLO_RT</th>\n",
              "      <th>TARGET</th>\n",
              "      <th>INS_SBSN_GOOD_LRCL_CD</th>\n",
              "      <th>...</th>\n",
              "      <th>CG014_KCIS_DIG_CC_99_CC</th>\n",
              "      <th>CG014_KCIS_SROP_CC_99_CC</th>\n",
              "      <th>CG014_KCIS_HTZ_DAY_TC_99_TC</th>\n",
              "      <th>CG014_KCIS_GNTH_CNT_N03_99_CC</th>\n",
              "      <th>CG014_ENT_UNBL_CLHI_RET_YN</th>\n",
              "      <th>CG014_DAS_RET_YN</th>\n",
              "      <th>CG014_EDCT_RET_YN</th>\n",
              "      <th>predict</th>\n",
              "      <th>N</th>\n",
              "      <th>Y</th>\n",
              "    </tr>\n",
              "  </thead>\n",
              "  <tbody>\n",
              "    <tr>\n",
              "      <th>0</th>\n",
              "      <td>201912</td>\n",
              "      <td>101901054218</td>\n",
              "      <td>200763491820</td>\n",
              "      <td>111568725</td>\n",
              "      <td>04</td>\n",
              "      <td>154814</td>\n",
              "      <td>0</td>\n",
              "      <td>0.0</td>\n",
              "      <td>N</td>\n",
              "      <td>1</td>\n",
              "      <td>...</td>\n",
              "      <td>0</td>\n",
              "      <td>0</td>\n",
              "      <td>84</td>\n",
              "      <td>0</td>\n",
              "      <td>N</td>\n",
              "      <td>N</td>\n",
              "      <td>N</td>\n",
              "      <td>N</td>\n",
              "      <td>0.993520</td>\n",
              "      <td>0.006480</td>\n",
              "    </tr>\n",
              "    <tr>\n",
              "      <th>1</th>\n",
              "      <td>201912</td>\n",
              "      <td>101901055097</td>\n",
              "      <td>200765776605</td>\n",
              "      <td>111568982</td>\n",
              "      <td>04</td>\n",
              "      <td>24805</td>\n",
              "      <td>0</td>\n",
              "      <td>0.0</td>\n",
              "      <td>N</td>\n",
              "      <td>12</td>\n",
              "      <td>...</td>\n",
              "      <td>0</td>\n",
              "      <td>4</td>\n",
              "      <td>356</td>\n",
              "      <td>0</td>\n",
              "      <td>Y</td>\n",
              "      <td>N</td>\n",
              "      <td>N</td>\n",
              "      <td>N</td>\n",
              "      <td>0.996930</td>\n",
              "      <td>0.003070</td>\n",
              "    </tr>\n",
              "    <tr>\n",
              "      <th>2</th>\n",
              "      <td>201912</td>\n",
              "      <td>101901055087</td>\n",
              "      <td>100901767894</td>\n",
              "      <td>111569005</td>\n",
              "      <td>01</td>\n",
              "      <td>52085</td>\n",
              "      <td>0</td>\n",
              "      <td>0.0</td>\n",
              "      <td>N</td>\n",
              "      <td>12</td>\n",
              "      <td>...</td>\n",
              "      <td>4</td>\n",
              "      <td>0</td>\n",
              "      <td>8</td>\n",
              "      <td>4</td>\n",
              "      <td>N</td>\n",
              "      <td>N</td>\n",
              "      <td>Y</td>\n",
              "      <td>N</td>\n",
              "      <td>0.994764</td>\n",
              "      <td>0.005236</td>\n",
              "    </tr>\n",
              "    <tr>\n",
              "      <th>3</th>\n",
              "      <td>201912</td>\n",
              "      <td>101901055147</td>\n",
              "      <td>700167552479</td>\n",
              "      <td>111569693</td>\n",
              "      <td>05</td>\n",
              "      <td>3460</td>\n",
              "      <td>0</td>\n",
              "      <td>0.0</td>\n",
              "      <td>N</td>\n",
              "      <td>1</td>\n",
              "      <td>...</td>\n",
              "      <td>0</td>\n",
              "      <td>0</td>\n",
              "      <td>0</td>\n",
              "      <td>0</td>\n",
              "      <td>N</td>\n",
              "      <td>N</td>\n",
              "      <td>N</td>\n",
              "      <td>N</td>\n",
              "      <td>0.992673</td>\n",
              "      <td>0.007327</td>\n",
              "    </tr>\n",
              "    <tr>\n",
              "      <th>4</th>\n",
              "      <td>201912</td>\n",
              "      <td>101901057039</td>\n",
              "      <td>200801442859</td>\n",
              "      <td>111569824</td>\n",
              "      <td>03</td>\n",
              "      <td>13464</td>\n",
              "      <td>0</td>\n",
              "      <td>0.0</td>\n",
              "      <td>N</td>\n",
              "      <td>1</td>\n",
              "      <td>...</td>\n",
              "      <td>0</td>\n",
              "      <td>0</td>\n",
              "      <td>0</td>\n",
              "      <td>0</td>\n",
              "      <td>N</td>\n",
              "      <td>N</td>\n",
              "      <td>N</td>\n",
              "      <td>N</td>\n",
              "      <td>0.998000</td>\n",
              "      <td>0.002000</td>\n",
              "    </tr>\n",
              "  </tbody>\n",
              "</table>\n",
              "<p>5 rows × 108 columns</p>\n",
              "</div>"
            ],
            "text/plain": [
              "   SUCO_YM       PPNU_NO    ASSR_CS_NO    INON_NO OGNZ_ASRT_CD  \\\n",
              "0   201912  101901054218  200763491820  111568725           04   \n",
              "1   201912  101901055097  200765776605  111568982           04   \n",
              "2   201912  101901055087  100901767894  111569005           01   \n",
              "3   201912  101901055147  700167552479  111569693           05   \n",
              "4   201912  101901057039  200801442859  111569824           03   \n",
              "\n",
              "   T_WY2_DANG_INP_FE  T_WY2_FUR_INS_AM  WY2_DMLO_RT TARGET  \\\n",
              "0             154814                 0          0.0      N   \n",
              "1              24805                 0          0.0      N   \n",
              "2              52085                 0          0.0      N   \n",
              "3               3460                 0          0.0      N   \n",
              "4              13464                 0          0.0      N   \n",
              "\n",
              "   INS_SBSN_GOOD_LRCL_CD    ...     CG014_KCIS_DIG_CC_99_CC  \\\n",
              "0                      1    ...                           0   \n",
              "1                     12    ...                           0   \n",
              "2                     12    ...                           4   \n",
              "3                      1    ...                           0   \n",
              "4                      1    ...                           0   \n",
              "\n",
              "   CG014_KCIS_SROP_CC_99_CC  CG014_KCIS_HTZ_DAY_TC_99_TC  \\\n",
              "0                         0                           84   \n",
              "1                         4                          356   \n",
              "2                         0                            8   \n",
              "3                         0                            0   \n",
              "4                         0                            0   \n",
              "\n",
              "   CG014_KCIS_GNTH_CNT_N03_99_CC  CG014_ENT_UNBL_CLHI_RET_YN  \\\n",
              "0                              0                           N   \n",
              "1                              0                           Y   \n",
              "2                              4                           N   \n",
              "3                              0                           N   \n",
              "4                              0                           N   \n",
              "\n",
              "   CG014_DAS_RET_YN  CG014_EDCT_RET_YN  predict         N         Y  \n",
              "0                 N                  N        N  0.993520  0.006480  \n",
              "1                 N                  N        N  0.996930  0.003070  \n",
              "2                 N                  Y        N  0.994764  0.005236  \n",
              "3                 N                  N        N  0.992673  0.007327  \n",
              "4                 N                  N        N  0.998000  0.002000  \n",
              "\n",
              "[5 rows x 108 columns]"
            ]
          },
          "execution_count": 3,
          "metadata": {},
          "output_type": "execute_result"
        }
      ],
      "source": [
        "data.head()"
      ]
    },
    {
      "cell_type": "code",
      "execution_count": null,
      "metadata": {
        "id": "mjgvKkoOsIkY"
      },
      "outputs": [],
      "source": [
        "data.loc[data['TARGET'] =='N', 'TARGET'] = 0\n",
        "data.loc[data['TARGET'] =='Y', 'TARGET'] = 1"
      ]
    },
    {
      "cell_type": "code",
      "execution_count": null,
      "metadata": {
        "id": "dopZh5gfsIkZ"
      },
      "outputs": [],
      "source": [
        "data2 = data.drop(columns = ['N','Y','predict','T_WY2_FUR_INS_AM','WY2_DMLO_RT','SUCO_YM','PPNU_NO','ASSR_CS_NO','INON_NO']) # 'percentile','PSMP_INC_AM'"
      ]
    },
    {
      "cell_type": "code",
      "execution_count": null,
      "metadata": {
        "id": "Szi-0MIasIkZ",
        "outputId": "e19ea982-2c01-4fe5-d267-0ca8d466ebdb"
      },
      "outputs": [
        {
          "data": {
            "text/plain": [
              "(353562, 99)"
            ]
          },
          "execution_count": 6,
          "metadata": {},
          "output_type": "execute_result"
        }
      ],
      "source": [
        "data2.shape"
      ]
    },
    {
      "cell_type": "code",
      "execution_count": null,
      "metadata": {
        "id": "VrQ7653lsIka",
        "outputId": "e1d1e7fc-4d6c-4c67-ef33-a44a86a1b936"
      },
      "outputs": [
        {
          "data": {
            "text/plain": [
              "0    345115\n",
              "1      8447\n",
              "Name: TARGET, dtype: int64"
            ]
          },
          "execution_count": 7,
          "metadata": {},
          "output_type": "execute_result"
        }
      ],
      "source": [
        "data['TARGET'].value_counts()"
      ]
    },
    {
      "cell_type": "code",
      "execution_count": null,
      "metadata": {
        "id": "6_c1Y3IfsIkb",
        "outputId": "d4f07a9d-8701-4401-f273-793cdd80a821"
      },
      "outputs": [
        {
          "data": {
            "text/html": [
              "<div>\n",
              "<style scoped>\n",
              "    .dataframe tbody tr th:only-of-type {\n",
              "        vertical-align: middle;\n",
              "    }\n",
              "\n",
              "    .dataframe tbody tr th {\n",
              "        vertical-align: top;\n",
              "    }\n",
              "\n",
              "    .dataframe thead th {\n",
              "        text-align: right;\n",
              "    }\n",
              "</style>\n",
              "<table border=\"1\" class=\"dataframe\">\n",
              "  <thead>\n",
              "    <tr style=\"text-align: right;\">\n",
              "      <th></th>\n",
              "      <th>INS_SBSN_GOOD_LRCL_CD</th>\n",
              "      <th>TARGET</th>\n",
              "    </tr>\n",
              "    <tr>\n",
              "      <th>INS_SBSN_GOOD_LRCL_CD</th>\n",
              "      <th></th>\n",
              "      <th></th>\n",
              "    </tr>\n",
              "  </thead>\n",
              "  <tbody>\n",
              "    <tr>\n",
              "      <th>1</th>\n",
              "      <td>181113</td>\n",
              "      <td>2872</td>\n",
              "    </tr>\n",
              "    <tr>\n",
              "      <th>5</th>\n",
              "      <td>3376</td>\n",
              "      <td>131</td>\n",
              "    </tr>\n",
              "    <tr>\n",
              "      <th>7</th>\n",
              "      <td>133</td>\n",
              "      <td>4</td>\n",
              "    </tr>\n",
              "    <tr>\n",
              "      <th>9</th>\n",
              "      <td>3738</td>\n",
              "      <td>4</td>\n",
              "    </tr>\n",
              "    <tr>\n",
              "      <th>10</th>\n",
              "      <td>4965</td>\n",
              "      <td>0</td>\n",
              "    </tr>\n",
              "    <tr>\n",
              "      <th>12</th>\n",
              "      <td>157049</td>\n",
              "      <td>5341</td>\n",
              "    </tr>\n",
              "    <tr>\n",
              "      <th>13</th>\n",
              "      <td>3188</td>\n",
              "      <td>95</td>\n",
              "    </tr>\n",
              "  </tbody>\n",
              "</table>\n",
              "</div>"
            ],
            "text/plain": [
              "                       INS_SBSN_GOOD_LRCL_CD  TARGET\n",
              "INS_SBSN_GOOD_LRCL_CD                               \n",
              "1                                     181113    2872\n",
              "5                                       3376     131\n",
              "7                                        133       4\n",
              "9                                       3738       4\n",
              "10                                      4965       0\n",
              "12                                    157049    5341\n",
              "13                                      3188      95"
            ]
          },
          "execution_count": 8,
          "metadata": {},
          "output_type": "execute_result"
        }
      ],
      "source": [
        "data.groupby('INS_SBSN_GOOD_LRCL_CD').agg({'INS_SBSN_GOOD_LRCL_CD':'count','TARGET' : 'sum'})"
      ]
    },
    {
      "cell_type": "code",
      "execution_count": null,
      "metadata": {
        "id": "WjaRB55WsIkc"
      },
      "outputs": [],
      "source": [
        "# 건강보험만 타겟팅\n",
        "# data2= data2.loc[(data2['OGNZ_ASRT_CD']=='15')&(data2['INS_SBSN_GOOD_LRCL_CD']==1),:]"
      ]
    },
    {
      "cell_type": "code",
      "execution_count": null,
      "metadata": {
        "id": "0TXB8vSzsIkc"
      },
      "outputs": [],
      "source": [
        "a = pd.DataFrame(data2.dtypes)"
      ]
    },
    {
      "cell_type": "markdown",
      "metadata": {
        "id": "-6iLpM0ZsIkd"
      },
      "source": [
        "### one-hot 인코딩"
      ]
    },
    {
      "cell_type": "code",
      "execution_count": null,
      "metadata": {
        "id": "rbeFWirdsIkd"
      },
      "outputs": [],
      "source": [
        "data3 = pd.get_dummies(data2, columns = ['INJR_GRD_CD', 'LRCL_INS_JOB_CD','LRCL_INS_JOB_CD','COOR_WY2_GTST_RSKLVL_CD','COOR_WY3_GTST_RSKLVL_CD','WY2_GTST_RSKLVL_CD','WY3_GTST_RSKLVL_CD','CB_GRD_CD']) #'AMDL_CST_LTCH_VALU_2016','AMDL_CST_LTCH_VALU_2017','AMDL_CST_LTCH_VALU_2018'])"
      ]
    },
    {
      "cell_type": "code",
      "execution_count": null,
      "metadata": {
        "id": "zr7UrjXRsIke",
        "outputId": "e72a253a-57c6-440d-df02-e7471fb0b0ef"
      },
      "outputs": [
        {
          "data": {
            "text/plain": [
              "(353562, 156)"
            ]
          },
          "execution_count": 12,
          "metadata": {},
          "output_type": "execute_result"
        }
      ],
      "source": [
        "data3.shape"
      ]
    },
    {
      "cell_type": "markdown",
      "metadata": {
        "id": "EwnO406esIke"
      },
      "source": [
        "### 숫자인 컬럼만 선택"
      ]
    },
    {
      "cell_type": "code",
      "execution_count": null,
      "metadata": {
        "id": "QI5L07kSsIke"
      },
      "outputs": [],
      "source": [
        "tp = data3.dtypes # 변수 타입 확인\n",
        "test = pd.DataFrame(tp) # 판다스 형태로 변환\n",
        "a = test.loc[(test[0]=='int64')|(test[0]=='uint8')|(test[0]=='float64'),:] # 숫자형 및 onehot인코딩 값 가져오기\n",
        "data4 = data3.loc[:, a.index] #분석 데이터만 선택"
      ]
    },
    {
      "cell_type": "code",
      "execution_count": null,
      "metadata": {
        "id": "S_qsuCPtsIkf",
        "outputId": "e4085d1c-aac6-48c9-e91d-98eaceed8881"
      },
      "outputs": [
        {
          "data": {
            "text/plain": [
              "(353562, 174)"
            ]
          },
          "execution_count": 14,
          "metadata": {},
          "output_type": "execute_result"
        }
      ],
      "source": [
        "data4.shape"
      ]
    },
    {
      "cell_type": "code",
      "execution_count": null,
      "metadata": {
        "id": "xMgpIIJgsIkf",
        "outputId": "8096006f-d681-4796-be42-86669d66b7b2"
      },
      "outputs": [
        {
          "data": {
            "text/html": [
              "<div>\n",
              "<style scoped>\n",
              "    .dataframe tbody tr th:only-of-type {\n",
              "        vertical-align: middle;\n",
              "    }\n",
              "\n",
              "    .dataframe tbody tr th {\n",
              "        vertical-align: top;\n",
              "    }\n",
              "\n",
              "    .dataframe thead th {\n",
              "        text-align: right;\n",
              "    }\n",
              "</style>\n",
              "<table border=\"1\" class=\"dataframe\">\n",
              "  <thead>\n",
              "    <tr style=\"text-align: right;\">\n",
              "      <th></th>\n",
              "      <th>OGNZ_ASRT_CD</th>\n",
              "      <th>T_WY2_DANG_INP_FE</th>\n",
              "      <th>TARGET</th>\n",
              "      <th>INS_SBSN_GOOD_LRCL_CD</th>\n",
              "      <th>INS_SBSN_GOOD_SMCL_CD</th>\n",
              "      <th>COOR_ISRD_AG</th>\n",
              "      <th>COOR_MNNP_RTNS_CD</th>\n",
              "      <th>MNPR_ENT_AM</th>\n",
              "      <th>MNPR_INP_FE_RTO</th>\n",
              "      <th>ISTE_CN_SC_CD</th>\n",
              "      <th>...</th>\n",
              "      <th>CB_GRD_CD_02</th>\n",
              "      <th>CB_GRD_CD_03</th>\n",
              "      <th>CB_GRD_CD_04</th>\n",
              "      <th>CB_GRD_CD_05</th>\n",
              "      <th>CB_GRD_CD_06</th>\n",
              "      <th>CB_GRD_CD_07</th>\n",
              "      <th>CB_GRD_CD_08</th>\n",
              "      <th>CB_GRD_CD_09</th>\n",
              "      <th>CB_GRD_CD_10</th>\n",
              "      <th>CB_GRD_CD_ZZ</th>\n",
              "    </tr>\n",
              "  </thead>\n",
              "  <tbody>\n",
              "    <tr>\n",
              "      <th>0</th>\n",
              "      <td>04</td>\n",
              "      <td>154814</td>\n",
              "      <td>0</td>\n",
              "      <td>1</td>\n",
              "      <td>10</td>\n",
              "      <td>53</td>\n",
              "      <td>1</td>\n",
              "      <td>70000000</td>\n",
              "      <td>68.03</td>\n",
              "      <td>1</td>\n",
              "      <td>...</td>\n",
              "      <td>0</td>\n",
              "      <td>0</td>\n",
              "      <td>0</td>\n",
              "      <td>0</td>\n",
              "      <td>0</td>\n",
              "      <td>0</td>\n",
              "      <td>0</td>\n",
              "      <td>0</td>\n",
              "      <td>0</td>\n",
              "      <td>1</td>\n",
              "    </tr>\n",
              "    <tr>\n",
              "      <th>1</th>\n",
              "      <td>04</td>\n",
              "      <td>24805</td>\n",
              "      <td>0</td>\n",
              "      <td>12</td>\n",
              "      <td>6</td>\n",
              "      <td>32</td>\n",
              "      <td>1</td>\n",
              "      <td>50000000</td>\n",
              "      <td>96.87</td>\n",
              "      <td>2</td>\n",
              "      <td>...</td>\n",
              "      <td>0</td>\n",
              "      <td>0</td>\n",
              "      <td>0</td>\n",
              "      <td>0</td>\n",
              "      <td>0</td>\n",
              "      <td>0</td>\n",
              "      <td>0</td>\n",
              "      <td>0</td>\n",
              "      <td>0</td>\n",
              "      <td>1</td>\n",
              "    </tr>\n",
              "    <tr>\n",
              "      <th>2</th>\n",
              "      <td>01</td>\n",
              "      <td>52085</td>\n",
              "      <td>0</td>\n",
              "      <td>12</td>\n",
              "      <td>17</td>\n",
              "      <td>35</td>\n",
              "      <td>1</td>\n",
              "      <td>55000000</td>\n",
              "      <td>85.26</td>\n",
              "      <td>99</td>\n",
              "      <td>...</td>\n",
              "      <td>0</td>\n",
              "      <td>0</td>\n",
              "      <td>0</td>\n",
              "      <td>0</td>\n",
              "      <td>0</td>\n",
              "      <td>0</td>\n",
              "      <td>0</td>\n",
              "      <td>0</td>\n",
              "      <td>0</td>\n",
              "      <td>1</td>\n",
              "    </tr>\n",
              "    <tr>\n",
              "      <th>3</th>\n",
              "      <td>05</td>\n",
              "      <td>3460</td>\n",
              "      <td>0</td>\n",
              "      <td>1</td>\n",
              "      <td>1</td>\n",
              "      <td>40</td>\n",
              "      <td>1</td>\n",
              "      <td>5000000</td>\n",
              "      <td>6.53</td>\n",
              "      <td>1</td>\n",
              "      <td>...</td>\n",
              "      <td>0</td>\n",
              "      <td>0</td>\n",
              "      <td>0</td>\n",
              "      <td>0</td>\n",
              "      <td>0</td>\n",
              "      <td>0</td>\n",
              "      <td>0</td>\n",
              "      <td>0</td>\n",
              "      <td>0</td>\n",
              "      <td>1</td>\n",
              "    </tr>\n",
              "    <tr>\n",
              "      <th>4</th>\n",
              "      <td>03</td>\n",
              "      <td>13464</td>\n",
              "      <td>0</td>\n",
              "      <td>1</td>\n",
              "      <td>10</td>\n",
              "      <td>44</td>\n",
              "      <td>3</td>\n",
              "      <td>10000000</td>\n",
              "      <td>51.50</td>\n",
              "      <td>1</td>\n",
              "      <td>...</td>\n",
              "      <td>0</td>\n",
              "      <td>0</td>\n",
              "      <td>0</td>\n",
              "      <td>0</td>\n",
              "      <td>0</td>\n",
              "      <td>0</td>\n",
              "      <td>0</td>\n",
              "      <td>0</td>\n",
              "      <td>0</td>\n",
              "      <td>1</td>\n",
              "    </tr>\n",
              "  </tbody>\n",
              "</table>\n",
              "<p>5 rows × 156 columns</p>\n",
              "</div>"
            ],
            "text/plain": [
              "  OGNZ_ASRT_CD  T_WY2_DANG_INP_FE  TARGET  INS_SBSN_GOOD_LRCL_CD  \\\n",
              "0           04             154814       0                      1   \n",
              "1           04              24805       0                     12   \n",
              "2           01              52085       0                     12   \n",
              "3           05               3460       0                      1   \n",
              "4           03              13464       0                      1   \n",
              "\n",
              "   INS_SBSN_GOOD_SMCL_CD  COOR_ISRD_AG  COOR_MNNP_RTNS_CD  MNPR_ENT_AM  \\\n",
              "0                     10            53                  1     70000000   \n",
              "1                      6            32                  1     50000000   \n",
              "2                     17            35                  1     55000000   \n",
              "3                      1            40                  1      5000000   \n",
              "4                     10            44                  3     10000000   \n",
              "\n",
              "   MNPR_INP_FE_RTO  ISTE_CN_SC_CD     ...       CB_GRD_CD_02  CB_GRD_CD_03  \\\n",
              "0            68.03              1     ...                  0             0   \n",
              "1            96.87              2     ...                  0             0   \n",
              "2            85.26             99     ...                  0             0   \n",
              "3             6.53              1     ...                  0             0   \n",
              "4            51.50              1     ...                  0             0   \n",
              "\n",
              "   CB_GRD_CD_04  CB_GRD_CD_05  CB_GRD_CD_06  CB_GRD_CD_07  CB_GRD_CD_08  \\\n",
              "0             0             0             0             0             0   \n",
              "1             0             0             0             0             0   \n",
              "2             0             0             0             0             0   \n",
              "3             0             0             0             0             0   \n",
              "4             0             0             0             0             0   \n",
              "\n",
              "   CB_GRD_CD_09  CB_GRD_CD_10 CB_GRD_CD_ZZ  \n",
              "0             0             0            1  \n",
              "1             0             0            1  \n",
              "2             0             0            1  \n",
              "3             0             0            1  \n",
              "4             0             0            1  \n",
              "\n",
              "[5 rows x 156 columns]"
            ]
          },
          "execution_count": 15,
          "metadata": {},
          "output_type": "execute_result"
        }
      ],
      "source": [
        "data3.head()"
      ]
    },
    {
      "cell_type": "markdown",
      "metadata": {
        "id": "fw3ZsQZmsIkg"
      },
      "source": [
        "### 학습, 테스트 데이터분리"
      ]
    },
    {
      "cell_type": "code",
      "execution_count": null,
      "metadata": {
        "id": "WLsq1vc2sIkg"
      },
      "outputs": [],
      "source": [
        "x  = data4.drop(columns = ['TARGET'])"
      ]
    },
    {
      "cell_type": "code",
      "execution_count": null,
      "metadata": {
        "id": "pLwPnSySsIkg"
      },
      "outputs": [],
      "source": [
        "y = data4['TARGET']"
      ]
    },
    {
      "cell_type": "code",
      "execution_count": null,
      "metadata": {
        "id": "rNHoD22vsIkg"
      },
      "outputs": [],
      "source": [
        "# X_resampled, y_resampled = sm.fit_sample(x,y)"
      ]
    },
    {
      "cell_type": "code",
      "execution_count": null,
      "metadata": {
        "id": "dxEAO11PsIkh"
      },
      "outputs": [],
      "source": [
        "x_train, x_test, y_train, y_test = train_test_split (x, y, test_size = 0.3)"
      ]
    },
    {
      "cell_type": "code",
      "execution_count": null,
      "metadata": {
        "id": "uGVcxvJgsIkh",
        "outputId": "50958031-b5ec-4298-83a0-7eece4fcebb1"
      },
      "outputs": [
        {
          "data": {
            "text/plain": [
              "(247493, 173)"
            ]
          },
          "execution_count": 20,
          "metadata": {},
          "output_type": "execute_result"
        }
      ],
      "source": [
        "x_train.shape"
      ]
    },
    {
      "cell_type": "markdown",
      "metadata": {
        "id": "ygf7l6g_sIkh"
      },
      "source": [
        "# 언더 샘플링"
      ]
    },
    {
      "cell_type": "code",
      "execution_count": null,
      "metadata": {
        "id": "nfXq1gmasIki",
        "outputId": "d39751fe-8e32-4bb8-ae6e-230d2c03ce4d"
      },
      "outputs": [
        {
          "name": "stdout",
          "output_type": "stream",
          "text": [
            "(11830, 173)\n",
            "(11830,)\n"
          ]
        }
      ],
      "source": [
        "undersample = RandomUnderSampler()\n",
        "\n",
        "x_resampled, y_resampled = undersample.fit_sample(x_train,y_train)\n",
        "\n",
        "print(x_resampled.shape)\n",
        "print(y_resampled.shape)"
      ]
    },
    {
      "cell_type": "markdown",
      "metadata": {
        "id": "SFmViM50sIki"
      },
      "source": [
        "### SMOTE"
      ]
    },
    {
      "cell_type": "code",
      "execution_count": null,
      "metadata": {
        "id": "mVI7zC3psIkj"
      },
      "outputs": [],
      "source": [
        "# sm = SMOTE()\n",
        "# x_resampled, y_resampled = sm.fit_sample(x_train,y_train)\n",
        "# x_train.shape\n",
        "# x_resampled.shape\n",
        "# y_resampled.shape"
      ]
    },
    {
      "cell_type": "code",
      "execution_count": null,
      "metadata": {
        "id": "4JBmPlCmsIkj"
      },
      "outputs": [],
      "source": []
    },
    {
      "cell_type": "markdown",
      "metadata": {
        "id": "w28-AyKVsIkj"
      },
      "source": [
        "### 데이터 정규화(minmax스케일러)"
      ]
    },
    {
      "cell_type": "code",
      "execution_count": null,
      "metadata": {
        "id": "fzU-Kd-zsIkj"
      },
      "outputs": [],
      "source": [
        "scaler = MinMaxScaler()"
      ]
    },
    {
      "cell_type": "code",
      "execution_count": null,
      "metadata": {
        "id": "-b8YRw7xsIkk"
      },
      "outputs": [],
      "source": [
        "scaler.fit(x_resampled)\n",
        "x_train_scaled = scaler.transform(x_resampled) # SMOTE Resample 정규화"
      ]
    },
    {
      "cell_type": "code",
      "execution_count": null,
      "metadata": {
        "id": "2wfAeotosIkk"
      },
      "outputs": [],
      "source": [
        "x_test_scaled = scaler.transform(x_test)"
      ]
    },
    {
      "cell_type": "markdown",
      "metadata": {
        "id": "o8sqDEqPsIkk"
      },
      "source": [
        "# 예측 확률 함수 (분위수)"
      ]
    },
    {
      "cell_type": "code",
      "execution_count": null,
      "metadata": {
        "id": "hgi_xEmwsIkk"
      },
      "outputs": [],
      "source": [
        "def prob(model):\n",
        "    proba = model.predict_proba(x_test_scaled)\n",
        "    proba[:,1]\n",
        "    prdict_prob = x_test\n",
        "    prdict_prob['TARGET'] = y_test\n",
        "    # proba = pd.DataFrame(proba)\n",
        "    prdict_prob['proba'] = proba[:,1]\n",
        "    # prdict_prob.to_excel('prdict_prob_randomforest.xlsx')\n",
        "\n",
        "    prdict_prob = prdict_prob.sort_values(by = 'proba') #확률기준 정렬하기\n",
        "    prdict_prob['seq'] = range(len(prdict_prob)) # 순번\n",
        "    prdict_prob['flag'] = (prdict_prob['seq']/(len(prdict_prob)/10)).values # 10분위수 Decile\n",
        "    prdict_prob = prdict_prob.astype({'flag': int}) # int값으로 변환\n",
        "    return prdict_prob.groupby(['flag']).agg({'seq':'count', 'TARGET':'sum'}) # 집계"
      ]
    },
    {
      "cell_type": "markdown",
      "metadata": {
        "id": "Gjo1tBtJsIkl"
      },
      "source": [
        "# MLP 신경망"
      ]
    },
    {
      "cell_type": "code",
      "execution_count": null,
      "metadata": {
        "id": "qZcWDZM7sIkl"
      },
      "outputs": [],
      "source": [
        "mlp = MLPClassifier(hidden_layer_sizes = (5,3), activation = 'relu', solver = 'sgd', alpha = 0.01, batch_size = 100, learning_rate_init = 0.015, max_iter= 1000)"
      ]
    },
    {
      "cell_type": "code",
      "execution_count": null,
      "metadata": {
        "id": "RVUrQvOSsIkl",
        "outputId": "abcc5a25-43f3-41b5-eb39-12f3010bdf82"
      },
      "outputs": [
        {
          "data": {
            "text/plain": [
              "MLPClassifier(activation='relu', alpha=0.01, batch_size=100, beta_1=0.9,\n",
              "       beta_2=0.999, early_stopping=False, epsilon=1e-08,\n",
              "       hidden_layer_sizes=(5, 3), learning_rate='constant',\n",
              "       learning_rate_init=0.015, max_iter=1000, momentum=0.9,\n",
              "       nesterovs_momentum=True, power_t=0.5, random_state=None,\n",
              "       shuffle=True, solver='sgd', tol=0.0001, validation_fraction=0.1,\n",
              "       verbose=False, warm_start=False)"
            ]
          },
          "execution_count": 100,
          "metadata": {},
          "output_type": "execute_result"
        }
      ],
      "source": [
        "mlp.fit(x_train_scaled, y_resampled)"
      ]
    },
    {
      "cell_type": "code",
      "execution_count": null,
      "metadata": {
        "id": "8w6X2l8ssIkl"
      },
      "outputs": [],
      "source": [
        "y_mlp_pred = mlp.predict(x_test_scaled)"
      ]
    },
    {
      "cell_type": "code",
      "execution_count": null,
      "metadata": {
        "id": "HyJAOiThsIkm",
        "outputId": "564865e0-f117-4d1e-9c38-d9be55066f81"
      },
      "outputs": [
        {
          "data": {
            "text/plain": [
              "array([[73193, 30344],\n",
              "       [  490,  2042]], dtype=int64)"
            ]
          },
          "execution_count": 102,
          "metadata": {},
          "output_type": "execute_result"
        }
      ],
      "source": [
        "confusion_matrix(y_test, y_mlp_pred)"
      ]
    },
    {
      "cell_type": "code",
      "execution_count": null,
      "metadata": {
        "id": "UE4TLqVSsIkm",
        "outputId": "afede7cb-7535-44ed-fb74-761d766d8e60"
      },
      "outputs": [
        {
          "name": "stdout",
          "output_type": "stream",
          "text": [
            "0.7093024352072708\n"
          ]
        }
      ],
      "source": [
        "print(accuracy_score(y_test, y_mlp_pred))"
      ]
    },
    {
      "cell_type": "code",
      "execution_count": null,
      "metadata": {
        "id": "Yvaxkuk1sIkm",
        "outputId": "e60eada7-f68f-4bba-bb28-2f06d5764e53"
      },
      "outputs": [
        {
          "name": "stderr",
          "output_type": "stream",
          "text": [
            "C:\\ProgramData\\Anaconda3\\lib\\site-packages\\ipykernel_launcher.py:5: SettingWithCopyWarning: \n",
            "A value is trying to be set on a copy of a slice from a DataFrame.\n",
            "Try using .loc[row_indexer,col_indexer] = value instead\n",
            "\n",
            "See the caveats in the documentation: http://pandas.pydata.org/pandas-docs/stable/indexing.html#indexing-view-versus-copy\n",
            "  \"\"\"\n",
            "C:\\ProgramData\\Anaconda3\\lib\\site-packages\\ipykernel_launcher.py:7: SettingWithCopyWarning: \n",
            "A value is trying to be set on a copy of a slice from a DataFrame.\n",
            "Try using .loc[row_indexer,col_indexer] = value instead\n",
            "\n",
            "See the caveats in the documentation: http://pandas.pydata.org/pandas-docs/stable/indexing.html#indexing-view-versus-copy\n",
            "  import sys\n"
          ]
        },
        {
          "data": {
            "text/html": [
              "<div>\n",
              "<style scoped>\n",
              "    .dataframe tbody tr th:only-of-type {\n",
              "        vertical-align: middle;\n",
              "    }\n",
              "\n",
              "    .dataframe tbody tr th {\n",
              "        vertical-align: top;\n",
              "    }\n",
              "\n",
              "    .dataframe thead th {\n",
              "        text-align: right;\n",
              "    }\n",
              "</style>\n",
              "<table border=\"1\" class=\"dataframe\">\n",
              "  <thead>\n",
              "    <tr style=\"text-align: right;\">\n",
              "      <th></th>\n",
              "      <th>seq</th>\n",
              "      <th>TARGET</th>\n",
              "    </tr>\n",
              "    <tr>\n",
              "      <th>flag</th>\n",
              "      <th></th>\n",
              "      <th></th>\n",
              "    </tr>\n",
              "  </thead>\n",
              "  <tbody>\n",
              "    <tr>\n",
              "      <th>0</th>\n",
              "      <td>10607</td>\n",
              "      <td>8</td>\n",
              "    </tr>\n",
              "    <tr>\n",
              "      <th>1</th>\n",
              "      <td>10607</td>\n",
              "      <td>21</td>\n",
              "    </tr>\n",
              "    <tr>\n",
              "      <th>2</th>\n",
              "      <td>10607</td>\n",
              "      <td>40</td>\n",
              "    </tr>\n",
              "    <tr>\n",
              "      <th>3</th>\n",
              "      <td>10607</td>\n",
              "      <td>59</td>\n",
              "    </tr>\n",
              "    <tr>\n",
              "      <th>4</th>\n",
              "      <td>10607</td>\n",
              "      <td>83</td>\n",
              "    </tr>\n",
              "    <tr>\n",
              "      <th>5</th>\n",
              "      <td>10607</td>\n",
              "      <td>131</td>\n",
              "    </tr>\n",
              "    <tr>\n",
              "      <th>6</th>\n",
              "      <td>10607</td>\n",
              "      <td>182</td>\n",
              "    </tr>\n",
              "    <tr>\n",
              "      <th>7</th>\n",
              "      <td>10607</td>\n",
              "      <td>345</td>\n",
              "    </tr>\n",
              "    <tr>\n",
              "      <th>8</th>\n",
              "      <td>10607</td>\n",
              "      <td>616</td>\n",
              "    </tr>\n",
              "    <tr>\n",
              "      <th>9</th>\n",
              "      <td>10606</td>\n",
              "      <td>1047</td>\n",
              "    </tr>\n",
              "  </tbody>\n",
              "</table>\n",
              "</div>"
            ],
            "text/plain": [
              "        seq  TARGET\n",
              "flag               \n",
              "0     10607       8\n",
              "1     10607      21\n",
              "2     10607      40\n",
              "3     10607      59\n",
              "4     10607      83\n",
              "5     10607     131\n",
              "6     10607     182\n",
              "7     10607     345\n",
              "8     10607     616\n",
              "9     10606    1047"
            ]
          },
          "execution_count": 32,
          "metadata": {},
          "output_type": "execute_result"
        }
      ],
      "source": [
        "prob(mlp)"
      ]
    },
    {
      "cell_type": "code",
      "execution_count": null,
      "metadata": {
        "id": "LOz1tN5bsIkm",
        "outputId": "7cc2ccec-6de2-4b4b-dae2-b10e78c9d7e9"
      },
      "outputs": [
        {
          "data": {
            "image/png": "[encoded data removed]",
            "text/plain": [
              "<Figure size 432x288 with 1 Axes>"
            ]
          },
          "metadata": {
            "needs_background": "light"
          },
          "output_type": "display_data"
        },
        {
          "data": {
            "text/plain": [
              "<Figure size 432x288 with 0 Axes>"
            ]
          },
          "metadata": {},
          "output_type": "display_data"
        }
      ],
      "source": [
        "## ROC curve\n",
        "fpr, tpr,_ = roc_curve(y_test,y_mlp_pred )\n",
        "plt.plot(fpr, tpr)\n",
        "plt.plot([0,1],[0,1],'--',color = 'black')\n",
        "plt.title('ROC Curve')\n",
        "plt.xlabel('False Positive Rate')\n",
        "plt.ylabel('True Positive Rate')\n",
        "plt.show()\n",
        "plt.clf()"
      ]
    },
    {
      "cell_type": "markdown",
      "metadata": {
        "id": "ddvEtySGsIkm"
      },
      "source": [
        "# 모델 학습"
      ]
    },
    {
      "cell_type": "markdown",
      "metadata": {
        "id": "RJI1_i1OsIkn"
      },
      "source": [
        "#### 의사결정나무 모델학습"
      ]
    },
    {
      "cell_type": "code",
      "execution_count": null,
      "metadata": {
        "id": "9Zmy26p_sIkn"
      },
      "outputs": [],
      "source": [
        "dtc = DecisionTreeClassifier(max_depth=5 ,random_state = 20, criterion = 'entropy')"
      ]
    },
    {
      "cell_type": "code",
      "execution_count": null,
      "metadata": {
        "id": "8_faSzocsIkn",
        "outputId": "b1afe24e-5760-4ac8-9d32-af387a955c99"
      },
      "outputs": [
        {
          "data": {
            "text/plain": [
              "DecisionTreeClassifier(class_weight=None, criterion='entropy', max_depth=5,\n",
              "            max_features=None, max_leaf_nodes=None,\n",
              "            min_impurity_decrease=0.0, min_impurity_split=None,\n",
              "            min_samples_leaf=1, min_samples_split=2,\n",
              "            min_weight_fraction_leaf=0.0, presort=False, random_state=20,\n",
              "            splitter='best')"
            ]
          },
          "execution_count": 71,
          "metadata": {},
          "output_type": "execute_result"
        }
      ],
      "source": [
        "dtc.fit(x_train_scaled, y_resampled)"
      ]
    },
    {
      "cell_type": "code",
      "execution_count": null,
      "metadata": {
        "id": "QfNeQRy2sIkn"
      },
      "outputs": [],
      "source": [
        "y_dtc_pred = dtc.predict(x_test_scaled)"
      ]
    },
    {
      "cell_type": "code",
      "execution_count": null,
      "metadata": {
        "id": "ttleH-mhsIkn",
        "outputId": "ee27820f-f4f4-431e-a375-fdae5e3b33bf"
      },
      "outputs": [
        {
          "name": "stdout",
          "output_type": "stream",
          "text": [
            "0.7215680359011587\n"
          ]
        }
      ],
      "source": [
        "print(accuracy_score(y_test, y_dtc_pred))"
      ]
    },
    {
      "cell_type": "code",
      "execution_count": null,
      "metadata": {
        "id": "PbQCIg1HsIko",
        "outputId": "662da2c2-d18e-40cf-cbcc-b840dbb8c94d"
      },
      "outputs": [
        {
          "data": {
            "text/plain": [
              "array([[74365, 29172],\n",
              "       [  361,  2171]], dtype=int64)"
            ]
          },
          "execution_count": 74,
          "metadata": {},
          "output_type": "execute_result"
        }
      ],
      "source": [
        "confusion_matrix(y_test, y_dtc_pred)"
      ]
    },
    {
      "cell_type": "code",
      "execution_count": null,
      "metadata": {
        "id": "jNs2AgZMsIko",
        "outputId": "4e72bd71-f750-41f8-d2f6-42c279a79575"
      },
      "outputs": [
        {
          "name": "stderr",
          "output_type": "stream",
          "text": [
            "C:\\ProgramData\\Anaconda3\\lib\\site-packages\\ipykernel_launcher.py:5: SettingWithCopyWarning: \n",
            "A value is trying to be set on a copy of a slice from a DataFrame.\n",
            "Try using .loc[row_indexer,col_indexer] = value instead\n",
            "\n",
            "See the caveats in the documentation: http://pandas.pydata.org/pandas-docs/stable/indexing.html#indexing-view-versus-copy\n",
            "  \"\"\"\n",
            "C:\\ProgramData\\Anaconda3\\lib\\site-packages\\ipykernel_launcher.py:7: SettingWithCopyWarning: \n",
            "A value is trying to be set on a copy of a slice from a DataFrame.\n",
            "Try using .loc[row_indexer,col_indexer] = value instead\n",
            "\n",
            "See the caveats in the documentation: http://pandas.pydata.org/pandas-docs/stable/indexing.html#indexing-view-versus-copy\n",
            "  import sys\n"
          ]
        },
        {
          "data": {
            "text/html": [
              "<div>\n",
              "<style scoped>\n",
              "    .dataframe tbody tr th:only-of-type {\n",
              "        vertical-align: middle;\n",
              "    }\n",
              "\n",
              "    .dataframe tbody tr th {\n",
              "        vertical-align: top;\n",
              "    }\n",
              "\n",
              "    .dataframe thead th {\n",
              "        text-align: right;\n",
              "    }\n",
              "</style>\n",
              "<table border=\"1\" class=\"dataframe\">\n",
              "  <thead>\n",
              "    <tr style=\"text-align: right;\">\n",
              "      <th></th>\n",
              "      <th>seq</th>\n",
              "      <th>TARGET</th>\n",
              "    </tr>\n",
              "    <tr>\n",
              "      <th>flag</th>\n",
              "      <th></th>\n",
              "      <th></th>\n",
              "    </tr>\n",
              "  </thead>\n",
              "  <tbody>\n",
              "    <tr>\n",
              "      <th>0</th>\n",
              "      <td>10607</td>\n",
              "      <td>4</td>\n",
              "    </tr>\n",
              "    <tr>\n",
              "      <th>1</th>\n",
              "      <td>10607</td>\n",
              "      <td>22</td>\n",
              "    </tr>\n",
              "    <tr>\n",
              "      <th>2</th>\n",
              "      <td>10607</td>\n",
              "      <td>37</td>\n",
              "    </tr>\n",
              "    <tr>\n",
              "      <th>3</th>\n",
              "      <td>10607</td>\n",
              "      <td>60</td>\n",
              "    </tr>\n",
              "    <tr>\n",
              "      <th>4</th>\n",
              "      <td>10607</td>\n",
              "      <td>61</td>\n",
              "    </tr>\n",
              "    <tr>\n",
              "      <th>5</th>\n",
              "      <td>10607</td>\n",
              "      <td>64</td>\n",
              "    </tr>\n",
              "    <tr>\n",
              "      <th>6</th>\n",
              "      <td>10607</td>\n",
              "      <td>104</td>\n",
              "    </tr>\n",
              "    <tr>\n",
              "      <th>7</th>\n",
              "      <td>10607</td>\n",
              "      <td>313</td>\n",
              "    </tr>\n",
              "    <tr>\n",
              "      <th>8</th>\n",
              "      <td>10607</td>\n",
              "      <td>773</td>\n",
              "    </tr>\n",
              "    <tr>\n",
              "      <th>9</th>\n",
              "      <td>10606</td>\n",
              "      <td>1094</td>\n",
              "    </tr>\n",
              "  </tbody>\n",
              "</table>\n",
              "</div>"
            ],
            "text/plain": [
              "        seq  TARGET\n",
              "flag               \n",
              "0     10607       4\n",
              "1     10607      22\n",
              "2     10607      37\n",
              "3     10607      60\n",
              "4     10607      61\n",
              "5     10607      64\n",
              "6     10607     104\n",
              "7     10607     313\n",
              "8     10607     773\n",
              "9     10606    1094"
            ]
          },
          "execution_count": 75,
          "metadata": {},
          "output_type": "execute_result"
        }
      ],
      "source": [
        "prob(dtc)"
      ]
    },
    {
      "cell_type": "code",
      "execution_count": null,
      "metadata": {
        "id": "babn8lk9sIko",
        "outputId": "350bc1fb-5206-4491-dd06-68f0b9fc338e"
      },
      "outputs": [
        {
          "name": "stderr",
          "output_type": "stream",
          "text": [
            "C:\\ProgramData\\Anaconda3\\lib\\site-packages\\ipykernel_launcher.py:4: SettingWithCopyWarning: \n",
            "A value is trying to be set on a copy of a slice from a DataFrame.\n",
            "Try using .loc[row_indexer,col_indexer] = value instead\n",
            "\n",
            "See the caveats in the documentation: http://pandas.pydata.org/pandas-docs/stable/indexing.html#indexing-view-versus-copy\n",
            "  after removing the cwd from sys.path.\n",
            "C:\\ProgramData\\Anaconda3\\lib\\site-packages\\ipykernel_launcher.py:5: SettingWithCopyWarning: \n",
            "A value is trying to be set on a copy of a slice from a DataFrame.\n",
            "Try using .loc[row_indexer,col_indexer] = value instead\n",
            "\n",
            "See the caveats in the documentation: http://pandas.pydata.org/pandas-docs/stable/indexing.html#indexing-view-versus-copy\n",
            "  \"\"\"\n"
          ]
        },
        {
          "data": {
            "text/html": [
              "<div>\n",
              "<style scoped>\n",
              "    .dataframe tbody tr th:only-of-type {\n",
              "        vertical-align: middle;\n",
              "    }\n",
              "\n",
              "    .dataframe tbody tr th {\n",
              "        vertical-align: top;\n",
              "    }\n",
              "\n",
              "    .dataframe thead th {\n",
              "        text-align: right;\n",
              "    }\n",
              "</style>\n",
              "<table border=\"1\" class=\"dataframe\">\n",
              "  <thead>\n",
              "    <tr style=\"text-align: right;\">\n",
              "      <th></th>\n",
              "      <th>seq</th>\n",
              "      <th>TARGET</th>\n",
              "      <th>T_WY2_DANG_INP_FE</th>\n",
              "      <th>T_WY2_FUR_INS_AM</th>\n",
              "      <th>profit</th>\n",
              "      <th>ProfitByCS</th>\n",
              "    </tr>\n",
              "    <tr>\n",
              "      <th>flag</th>\n",
              "      <th></th>\n",
              "      <th></th>\n",
              "      <th></th>\n",
              "      <th></th>\n",
              "      <th></th>\n",
              "      <th></th>\n",
              "    </tr>\n",
              "  </thead>\n",
              "  <tbody>\n",
              "    <tr>\n",
              "      <th>0</th>\n",
              "      <td>10607</td>\n",
              "      <td>11</td>\n",
              "      <td>1244029456</td>\n",
              "      <td>586743752</td>\n",
              "      <td>657285704</td>\n",
              "      <td>61967.163571</td>\n",
              "    </tr>\n",
              "    <tr>\n",
              "      <th>1</th>\n",
              "      <td>10607</td>\n",
              "      <td>14</td>\n",
              "      <td>1117287453</td>\n",
              "      <td>115527047</td>\n",
              "      <td>1001760406</td>\n",
              "      <td>94443.330442</td>\n",
              "    </tr>\n",
              "    <tr>\n",
              "      <th>2</th>\n",
              "      <td>10607</td>\n",
              "      <td>48</td>\n",
              "      <td>730745180</td>\n",
              "      <td>474580945</td>\n",
              "      <td>256164235</td>\n",
              "      <td>24150.488828</td>\n",
              "    </tr>\n",
              "    <tr>\n",
              "      <th>3</th>\n",
              "      <td>10607</td>\n",
              "      <td>71</td>\n",
              "      <td>522919012</td>\n",
              "      <td>627640000</td>\n",
              "      <td>-104720988</td>\n",
              "      <td>-9872.818705</td>\n",
              "    </tr>\n",
              "    <tr>\n",
              "      <th>4</th>\n",
              "      <td>10607</td>\n",
              "      <td>57</td>\n",
              "      <td>531824873</td>\n",
              "      <td>389777500</td>\n",
              "      <td>142047373</td>\n",
              "      <td>13391.851890</td>\n",
              "    </tr>\n",
              "    <tr>\n",
              "      <th>5</th>\n",
              "      <td>10607</td>\n",
              "      <td>71</td>\n",
              "      <td>565213357</td>\n",
              "      <td>645353945</td>\n",
              "      <td>-80140588</td>\n",
              "      <td>-7555.443386</td>\n",
              "    </tr>\n",
              "    <tr>\n",
              "      <th>6</th>\n",
              "      <td>10607</td>\n",
              "      <td>173</td>\n",
              "      <td>2445543621</td>\n",
              "      <td>502723231</td>\n",
              "      <td>1942820390</td>\n",
              "      <td>183163.985104</td>\n",
              "    </tr>\n",
              "    <tr>\n",
              "      <th>7</th>\n",
              "      <td>10607</td>\n",
              "      <td>251</td>\n",
              "      <td>1139715603</td>\n",
              "      <td>563186504</td>\n",
              "      <td>576529099</td>\n",
              "      <td>54353.643726</td>\n",
              "    </tr>\n",
              "    <tr>\n",
              "      <th>8</th>\n",
              "      <td>10607</td>\n",
              "      <td>792</td>\n",
              "      <td>1458108950</td>\n",
              "      <td>698143002</td>\n",
              "      <td>759965948</td>\n",
              "      <td>71647.586311</td>\n",
              "    </tr>\n",
              "    <tr>\n",
              "      <th>9</th>\n",
              "      <td>10606</td>\n",
              "      <td>1044</td>\n",
              "      <td>3295512717</td>\n",
              "      <td>1208571258</td>\n",
              "      <td>2086941459</td>\n",
              "      <td>196769.890534</td>\n",
              "    </tr>\n",
              "  </tbody>\n",
              "</table>\n",
              "</div>"
            ],
            "text/plain": [
              "        seq  TARGET  T_WY2_DANG_INP_FE  T_WY2_FUR_INS_AM      profit  \\\n",
              "flag                                                                   \n",
              "0     10607      11         1244029456         586743752   657285704   \n",
              "1     10607      14         1117287453         115527047  1001760406   \n",
              "2     10607      48          730745180         474580945   256164235   \n",
              "3     10607      71          522919012         627640000  -104720988   \n",
              "4     10607      57          531824873         389777500   142047373   \n",
              "5     10607      71          565213357         645353945   -80140588   \n",
              "6     10607     173         2445543621         502723231  1942820390   \n",
              "7     10607     251         1139715603         563186504   576529099   \n",
              "8     10607     792         1458108950         698143002   759965948   \n",
              "9     10606    1044         3295512717        1208571258  2086941459   \n",
              "\n",
              "         ProfitByCS  \n",
              "flag                 \n",
              "0      61967.163571  \n",
              "1      94443.330442  \n",
              "2      24150.488828  \n",
              "3      -9872.818705  \n",
              "4      13391.851890  \n",
              "5      -7555.443386  \n",
              "6     183163.985104  \n",
              "7      54353.643726  \n",
              "8      71647.586311  \n",
              "9     196769.890534  "
            ]
          },
          "execution_count": 40,
          "metadata": {},
          "output_type": "execute_result"
        }
      ],
      "source": [
        "proba = dtc.predict_proba(x_test_scaled)\n",
        "proba[:,1]\n",
        "prdict_prob = x_test\n",
        "prdict_prob['TARGET'] = y_test\n",
        "prdict_prob['proba'] = proba[:,1]\n",
        "# prdict_prob.to_excel('prdict_prob.xlsx')\n",
        "\n",
        "prdict_prob = prdict_prob.sort_values(by = 'proba') #확률기준 정렬하기\n",
        "prdict_prob['seq'] = range(len(prdict_prob)) # 순번\n",
        "prdict_prob['flag'] = (prdict_prob['seq']/(len(prdict_prob)/10)).values # 분위수\n",
        "prdict_prob = prdict_prob.astype({'flag': int}) # int값으로 변환\n",
        "# prdict_prob.groupby(['flag']).agg({'seq':'count', 'TARGET':'sum'}) # 집계\n",
        "\n",
        "data_tmp = data[['T_WY2_FUR_INS_AM','INON_NO']]\n",
        "prdict_prob = pd.merge(prdict_prob, data_tmp, left_index = True, right_index = True, how = 'left')\n",
        "# prdict_prob.groupby(['flag']).agg({'seq':'count', 'TARGET':'sum', 'T_WY2_DANG_INP_FE':'sum', 'T_WY2_FUR_INS_AM': 'sum' }) # 집계\n",
        "prdict_prob['profit'] = prdict_prob['T_WY2_DANG_INP_FE']-prdict_prob['T_WY2_FUR_INS_AM']\n",
        "prdict_prob2 = prdict_prob.groupby(['flag']).agg({'seq':'count', 'TARGET':'sum', 'T_WY2_DANG_INP_FE':'sum', 'T_WY2_FUR_INS_AM': 'sum','profit':'sum' }) # 집계\n",
        "prdict_prob2['ProfitByCS'] = prdict_prob2['profit']/prdict_prob2['seq']\n",
        "prdict_prob2"
      ]
    },
    {
      "cell_type": "markdown",
      "metadata": {
        "id": "0JPr23RpsIko"
      },
      "source": [
        "### 랜덤포레스트(분류)"
      ]
    },
    {
      "cell_type": "code",
      "execution_count": null,
      "metadata": {
        "id": "CnJAT0KssIkp"
      },
      "outputs": [],
      "source": [
        "rf_classifier = RandomForestClassifier(random_state =0, max_depth = 5, min_samples_leaf = 8, min_samples_split =8, n_estimators =200)"
      ]
    },
    {
      "cell_type": "code",
      "execution_count": null,
      "metadata": {
        "id": "33R_vYHRsIkp",
        "outputId": "a47a4728-ffce-4665-b571-7f7111557db4"
      },
      "outputs": [
        {
          "data": {
            "text/plain": [
              "RandomForestClassifier(bootstrap=True, class_weight=None, criterion='gini',\n",
              "            max_depth=5, max_features='auto', max_leaf_nodes=None,\n",
              "            min_impurity_decrease=0.0, min_impurity_split=None,\n",
              "            min_samples_leaf=8, min_samples_split=8,\n",
              "            min_weight_fraction_leaf=0.0, n_estimators=200, n_jobs=1,\n",
              "            oob_score=False, random_state=0, verbose=0, warm_start=False)"
            ]
          },
          "execution_count": 42,
          "metadata": {},
          "output_type": "execute_result"
        }
      ],
      "source": [
        "rf_classifier.fit(x_train_scaled, y_resampled)"
      ]
    },
    {
      "cell_type": "code",
      "execution_count": null,
      "metadata": {
        "id": "v9r1A4sPsIkp"
      },
      "outputs": [],
      "source": [
        "rf_pred = rf_classifier.predict(x_test_scaled)"
      ]
    },
    {
      "cell_type": "code",
      "execution_count": null,
      "metadata": {
        "id": "mJLFxAgzsIkp",
        "outputId": "cae5af2c-2873-4d7e-8c3a-344119e13ba1"
      },
      "outputs": [
        {
          "data": {
            "text/plain": [
              "array([1, 0, 0, ..., 1, 0, 1], dtype=int64)"
            ]
          },
          "execution_count": 44,
          "metadata": {},
          "output_type": "execute_result"
        }
      ],
      "source": [
        "rf_pred"
      ]
    },
    {
      "cell_type": "code",
      "execution_count": null,
      "metadata": {
        "id": "q54qUvqksIkp",
        "outputId": "6cb4bedb-c6c6-4afd-c961-bed6fb464a29"
      },
      "outputs": [
        {
          "data": {
            "text/plain": [
              "array([[75528, 28009],\n",
              "       [  445,  2087]], dtype=int64)"
            ]
          },
          "execution_count": 45,
          "metadata": {},
          "output_type": "execute_result"
        }
      ],
      "source": [
        "confusion_matrix(y_test, rf_pred)"
      ]
    },
    {
      "cell_type": "markdown",
      "metadata": {
        "id": "v1sqPyJRsIkq"
      },
      "source": [
        "#### 예측확률"
      ]
    },
    {
      "cell_type": "code",
      "execution_count": null,
      "metadata": {
        "id": "lDHMvjUBsIkq",
        "outputId": "e70dbf2b-cc72-41c2-bb2e-9e85ef84f6ea"
      },
      "outputs": [
        {
          "name": "stderr",
          "output_type": "stream",
          "text": [
            "C:\\ProgramData\\Anaconda3\\lib\\site-packages\\ipykernel_launcher.py:5: SettingWithCopyWarning: \n",
            "A value is trying to be set on a copy of a slice from a DataFrame.\n",
            "Try using .loc[row_indexer,col_indexer] = value instead\n",
            "\n",
            "See the caveats in the documentation: http://pandas.pydata.org/pandas-docs/stable/indexing.html#indexing-view-versus-copy\n",
            "  \"\"\"\n",
            "C:\\ProgramData\\Anaconda3\\lib\\site-packages\\ipykernel_launcher.py:7: SettingWithCopyWarning: \n",
            "A value is trying to be set on a copy of a slice from a DataFrame.\n",
            "Try using .loc[row_indexer,col_indexer] = value instead\n",
            "\n",
            "See the caveats in the documentation: http://pandas.pydata.org/pandas-docs/stable/indexing.html#indexing-view-versus-copy\n",
            "  import sys\n"
          ]
        },
        {
          "data": {
            "text/html": [
              "<div>\n",
              "<style scoped>\n",
              "    .dataframe tbody tr th:only-of-type {\n",
              "        vertical-align: middle;\n",
              "    }\n",
              "\n",
              "    .dataframe tbody tr th {\n",
              "        vertical-align: top;\n",
              "    }\n",
              "\n",
              "    .dataframe thead th {\n",
              "        text-align: right;\n",
              "    }\n",
              "</style>\n",
              "<table border=\"1\" class=\"dataframe\">\n",
              "  <thead>\n",
              "    <tr style=\"text-align: right;\">\n",
              "      <th></th>\n",
              "      <th>seq</th>\n",
              "      <th>TARGET</th>\n",
              "    </tr>\n",
              "    <tr>\n",
              "      <th>flag</th>\n",
              "      <th></th>\n",
              "      <th></th>\n",
              "    </tr>\n",
              "  </thead>\n",
              "  <tbody>\n",
              "    <tr>\n",
              "      <th>0</th>\n",
              "      <td>10607</td>\n",
              "      <td>15</td>\n",
              "    </tr>\n",
              "    <tr>\n",
              "      <th>1</th>\n",
              "      <td>10607</td>\n",
              "      <td>26</td>\n",
              "    </tr>\n",
              "    <tr>\n",
              "      <th>2</th>\n",
              "      <td>10607</td>\n",
              "      <td>40</td>\n",
              "    </tr>\n",
              "    <tr>\n",
              "      <th>3</th>\n",
              "      <td>10607</td>\n",
              "      <td>43</td>\n",
              "    </tr>\n",
              "    <tr>\n",
              "      <th>4</th>\n",
              "      <td>10607</td>\n",
              "      <td>68</td>\n",
              "    </tr>\n",
              "    <tr>\n",
              "      <th>5</th>\n",
              "      <td>10607</td>\n",
              "      <td>74</td>\n",
              "    </tr>\n",
              "    <tr>\n",
              "      <th>6</th>\n",
              "      <td>10607</td>\n",
              "      <td>138</td>\n",
              "    </tr>\n",
              "    <tr>\n",
              "      <th>7</th>\n",
              "      <td>10607</td>\n",
              "      <td>336</td>\n",
              "    </tr>\n",
              "    <tr>\n",
              "      <th>8</th>\n",
              "      <td>10607</td>\n",
              "      <td>698</td>\n",
              "    </tr>\n",
              "    <tr>\n",
              "      <th>9</th>\n",
              "      <td>10606</td>\n",
              "      <td>1094</td>\n",
              "    </tr>\n",
              "  </tbody>\n",
              "</table>\n",
              "</div>"
            ],
            "text/plain": [
              "        seq  TARGET\n",
              "flag               \n",
              "0     10607      15\n",
              "1     10607      26\n",
              "2     10607      40\n",
              "3     10607      43\n",
              "4     10607      68\n",
              "5     10607      74\n",
              "6     10607     138\n",
              "7     10607     336\n",
              "8     10607     698\n",
              "9     10606    1094"
            ]
          },
          "execution_count": 46,
          "metadata": {},
          "output_type": "execute_result"
        }
      ],
      "source": [
        "prob(rf_classifier)"
      ]
    },
    {
      "cell_type": "code",
      "execution_count": null,
      "metadata": {
        "id": "3R2MYaHzsIkq",
        "outputId": "f4abef3e-dcd6-46e2-bba8-4d0868eb4b60"
      },
      "outputs": [
        {
          "name": "stderr",
          "output_type": "stream",
          "text": [
            "C:\\ProgramData\\Anaconda3\\lib\\site-packages\\ipykernel_launcher.py:4: SettingWithCopyWarning: \n",
            "A value is trying to be set on a copy of a slice from a DataFrame.\n",
            "Try using .loc[row_indexer,col_indexer] = value instead\n",
            "\n",
            "See the caveats in the documentation: http://pandas.pydata.org/pandas-docs/stable/indexing.html#indexing-view-versus-copy\n",
            "  after removing the cwd from sys.path.\n",
            "C:\\ProgramData\\Anaconda3\\lib\\site-packages\\ipykernel_launcher.py:5: SettingWithCopyWarning: \n",
            "A value is trying to be set on a copy of a slice from a DataFrame.\n",
            "Try using .loc[row_indexer,col_indexer] = value instead\n",
            "\n",
            "See the caveats in the documentation: http://pandas.pydata.org/pandas-docs/stable/indexing.html#indexing-view-versus-copy\n",
            "  \"\"\"\n"
          ]
        },
        {
          "data": {
            "text/html": [
              "<div>\n",
              "<style scoped>\n",
              "    .dataframe tbody tr th:only-of-type {\n",
              "        vertical-align: middle;\n",
              "    }\n",
              "\n",
              "    .dataframe tbody tr th {\n",
              "        vertical-align: top;\n",
              "    }\n",
              "\n",
              "    .dataframe thead th {\n",
              "        text-align: right;\n",
              "    }\n",
              "</style>\n",
              "<table border=\"1\" class=\"dataframe\">\n",
              "  <thead>\n",
              "    <tr style=\"text-align: right;\">\n",
              "      <th></th>\n",
              "      <th>seq</th>\n",
              "      <th>TARGET</th>\n",
              "      <th>T_WY2_DANG_INP_FE</th>\n",
              "      <th>T_WY2_FUR_INS_AM</th>\n",
              "      <th>profit</th>\n",
              "      <th>ProfitByCS</th>\n",
              "    </tr>\n",
              "    <tr>\n",
              "      <th>flag</th>\n",
              "      <th></th>\n",
              "      <th></th>\n",
              "      <th></th>\n",
              "      <th></th>\n",
              "      <th></th>\n",
              "      <th></th>\n",
              "    </tr>\n",
              "  </thead>\n",
              "  <tbody>\n",
              "    <tr>\n",
              "      <th>0</th>\n",
              "      <td>10607</td>\n",
              "      <td>15</td>\n",
              "      <td>343938191</td>\n",
              "      <td>337976603</td>\n",
              "      <td>5961588</td>\n",
              "      <td>562.042802</td>\n",
              "    </tr>\n",
              "    <tr>\n",
              "      <th>1</th>\n",
              "      <td>10607</td>\n",
              "      <td>26</td>\n",
              "      <td>696395763</td>\n",
              "      <td>307643707</td>\n",
              "      <td>388752056</td>\n",
              "      <td>36650.519091</td>\n",
              "    </tr>\n",
              "    <tr>\n",
              "      <th>2</th>\n",
              "      <td>10607</td>\n",
              "      <td>40</td>\n",
              "      <td>719072929</td>\n",
              "      <td>473264585</td>\n",
              "      <td>245808344</td>\n",
              "      <td>23174.162723</td>\n",
              "    </tr>\n",
              "    <tr>\n",
              "      <th>3</th>\n",
              "      <td>10607</td>\n",
              "      <td>43</td>\n",
              "      <td>1010413080</td>\n",
              "      <td>916361226</td>\n",
              "      <td>94051854</td>\n",
              "      <td>8866.960875</td>\n",
              "    </tr>\n",
              "    <tr>\n",
              "      <th>4</th>\n",
              "      <td>10607</td>\n",
              "      <td>68</td>\n",
              "      <td>1620622509</td>\n",
              "      <td>487692687</td>\n",
              "      <td>1132929822</td>\n",
              "      <td>106809.637221</td>\n",
              "    </tr>\n",
              "    <tr>\n",
              "      <th>5</th>\n",
              "      <td>10607</td>\n",
              "      <td>74</td>\n",
              "      <td>1293092669</td>\n",
              "      <td>441574038</td>\n",
              "      <td>851518631</td>\n",
              "      <td>80278.931932</td>\n",
              "    </tr>\n",
              "    <tr>\n",
              "      <th>6</th>\n",
              "      <td>10607</td>\n",
              "      <td>138</td>\n",
              "      <td>1281693338</td>\n",
              "      <td>398674793</td>\n",
              "      <td>883018545</td>\n",
              "      <td>83248.660790</td>\n",
              "    </tr>\n",
              "    <tr>\n",
              "      <th>7</th>\n",
              "      <td>10607</td>\n",
              "      <td>336</td>\n",
              "      <td>1371739221</td>\n",
              "      <td>600077986</td>\n",
              "      <td>771661235</td>\n",
              "      <td>72750.187141</td>\n",
              "    </tr>\n",
              "    <tr>\n",
              "      <th>8</th>\n",
              "      <td>10607</td>\n",
              "      <td>698</td>\n",
              "      <td>1883737439</td>\n",
              "      <td>618915500</td>\n",
              "      <td>1264821939</td>\n",
              "      <td>119244.078344</td>\n",
              "    </tr>\n",
              "    <tr>\n",
              "      <th>9</th>\n",
              "      <td>10606</td>\n",
              "      <td>1094</td>\n",
              "      <td>2830195083</td>\n",
              "      <td>1230066059</td>\n",
              "      <td>1600129024</td>\n",
              "      <td>150870.170092</td>\n",
              "    </tr>\n",
              "  </tbody>\n",
              "</table>\n",
              "</div>"
            ],
            "text/plain": [
              "        seq  TARGET  T_WY2_DANG_INP_FE  T_WY2_FUR_INS_AM      profit  \\\n",
              "flag                                                                   \n",
              "0     10607      15          343938191         337976603     5961588   \n",
              "1     10607      26          696395763         307643707   388752056   \n",
              "2     10607      40          719072929         473264585   245808344   \n",
              "3     10607      43         1010413080         916361226    94051854   \n",
              "4     10607      68         1620622509         487692687  1132929822   \n",
              "5     10607      74         1293092669         441574038   851518631   \n",
              "6     10607     138         1281693338         398674793   883018545   \n",
              "7     10607     336         1371739221         600077986   771661235   \n",
              "8     10607     698         1883737439         618915500  1264821939   \n",
              "9     10606    1094         2830195083        1230066059  1600129024   \n",
              "\n",
              "         ProfitByCS  \n",
              "flag                 \n",
              "0        562.042802  \n",
              "1      36650.519091  \n",
              "2      23174.162723  \n",
              "3       8866.960875  \n",
              "4     106809.637221  \n",
              "5      80278.931932  \n",
              "6      83248.660790  \n",
              "7      72750.187141  \n",
              "8     119244.078344  \n",
              "9     150870.170092  "
            ]
          },
          "execution_count": 47,
          "metadata": {},
          "output_type": "execute_result"
        }
      ],
      "source": [
        "proba = rf_classifier.predict_proba(x_test_scaled)\n",
        "proba[:,1]\n",
        "prdict_prob = x_test\n",
        "prdict_prob['TARGET'] = y_test\n",
        "prdict_prob['proba'] = proba[:,1]\n",
        "# prdict_prob.to_excel('prdict_prob.xlsx')\n",
        "\n",
        "prdict_prob = prdict_prob.sort_values(by = 'proba') #확률기준 정렬하기\n",
        "prdict_prob['seq'] = range(len(prdict_prob)) # 순번\n",
        "prdict_prob['flag'] = (prdict_prob['seq']/(len(prdict_prob)/10)).values # 분위수\n",
        "prdict_prob = prdict_prob.astype({'flag': int}) # int값으로 변환\n",
        "# prdict_prob.groupby(['flag']).agg({'seq':'count', 'TARGET':'sum'}) # 집계\n",
        "\n",
        "data_tmp = data[['T_WY2_FUR_INS_AM','INON_NO']]\n",
        "prdict_prob = pd.merge(prdict_prob, data_tmp, left_index = True, right_index = True, how = 'left')\n",
        "# prdict_prob.groupby(['flag']).agg({'seq':'count', 'TARGET':'sum', 'T_WY2_DANG_INP_FE':'sum', 'T_WY2_FUR_INS_AM': 'sum' }) # 집계\n",
        "prdict_prob['profit'] = prdict_prob['T_WY2_DANG_INP_FE']-prdict_prob['T_WY2_FUR_INS_AM']\n",
        "prdict_prob2 = prdict_prob.groupby(['flag']).agg({'seq':'count', 'TARGET':'sum', 'T_WY2_DANG_INP_FE':'sum', 'T_WY2_FUR_INS_AM': 'sum','profit':'sum' }) # 집계\n",
        "prdict_prob2['ProfitByCS'] = prdict_prob2['profit']/prdict_prob2['seq']\n",
        "prdict_prob2"
      ]
    },
    {
      "cell_type": "markdown",
      "metadata": {
        "id": "pYtRerRbsIkq"
      },
      "source": [
        "#### 변수 중요도"
      ]
    },
    {
      "cell_type": "code",
      "execution_count": null,
      "metadata": {
        "id": "-y2ho-x1sIkr"
      },
      "outputs": [],
      "source": [
        "importance = rf_classifier.feature_importances_ # 변수 중요도\n",
        "feature = x_train.columns # 변수 중요도 컬럼명 \n",
        "importances = pd.DataFrame() \n",
        "importances['feature'] = feature\n",
        "importances['importances'] = importance\n",
        "\n",
        "importances.sort_values('importances', ascending = False, inplace = True)"
      ]
    },
    {
      "cell_type": "code",
      "execution_count": null,
      "metadata": {
        "id": "0i1X1KrrsIkr",
        "outputId": "fdc66858-a856-49c7-810e-df8d0b4f1a92"
      },
      "outputs": [
        {
          "data": {
            "text/html": [
              "<div>\n",
              "<style scoped>\n",
              "    .dataframe tbody tr th:only-of-type {\n",
              "        vertical-align: middle;\n",
              "    }\n",
              "\n",
              "    .dataframe tbody tr th {\n",
              "        vertical-align: top;\n",
              "    }\n",
              "\n",
              "    .dataframe thead th {\n",
              "        text-align: right;\n",
              "    }\n",
              "</style>\n",
              "<table border=\"1\" class=\"dataframe\">\n",
              "  <thead>\n",
              "    <tr style=\"text-align: right;\">\n",
              "      <th></th>\n",
              "      <th>feature</th>\n",
              "      <th>importances</th>\n",
              "    </tr>\n",
              "  </thead>\n",
              "  <tbody>\n",
              "    <tr>\n",
              "      <th>16</th>\n",
              "      <td>TRTY_CC</td>\n",
              "      <td>0.133584</td>\n",
              "    </tr>\n",
              "    <tr>\n",
              "      <th>0</th>\n",
              "      <td>T_WY2_DANG_INP_FE</td>\n",
              "      <td>0.121812</td>\n",
              "    </tr>\n",
              "    <tr>\n",
              "      <th>12</th>\n",
              "      <td>PMPE_TC</td>\n",
              "      <td>0.099647</td>\n",
              "    </tr>\n",
              "    <tr>\n",
              "      <th>6</th>\n",
              "      <td>MNPR_INP_FE_RTO</td>\n",
              "      <td>0.073989</td>\n",
              "    </tr>\n",
              "    <tr>\n",
              "      <th>8</th>\n",
              "      <td>ISTE_CN_DVVA</td>\n",
              "      <td>0.070432</td>\n",
              "    </tr>\n",
              "    <tr>\n",
              "      <th>11</th>\n",
              "      <td>PMPE_TC_DVVA</td>\n",
              "      <td>0.068237</td>\n",
              "    </tr>\n",
              "    <tr>\n",
              "      <th>9</th>\n",
              "      <td>ISTE_CN</td>\n",
              "      <td>0.062482</td>\n",
              "    </tr>\n",
              "    <tr>\n",
              "      <th>17</th>\n",
              "      <td>SLN_CHNN_SC_CD</td>\n",
              "      <td>0.032112</td>\n",
              "    </tr>\n",
              "    <tr>\n",
              "      <th>1</th>\n",
              "      <td>INS_SBSN_GOOD_LRCL_CD</td>\n",
              "      <td>0.031458</td>\n",
              "    </tr>\n",
              "    <tr>\n",
              "      <th>7</th>\n",
              "      <td>ISTE_CN_SC_CD</td>\n",
              "      <td>0.028451</td>\n",
              "    </tr>\n",
              "  </tbody>\n",
              "</table>\n",
              "</div>"
            ],
            "text/plain": [
              "                  feature  importances\n",
              "16                TRTY_CC     0.133584\n",
              "0       T_WY2_DANG_INP_FE     0.121812\n",
              "12                PMPE_TC     0.099647\n",
              "6         MNPR_INP_FE_RTO     0.073989\n",
              "8            ISTE_CN_DVVA     0.070432\n",
              "11           PMPE_TC_DVVA     0.068237\n",
              "9                 ISTE_CN     0.062482\n",
              "17         SLN_CHNN_SC_CD     0.032112\n",
              "1   INS_SBSN_GOOD_LRCL_CD     0.031458\n",
              "7           ISTE_CN_SC_CD     0.028451"
            ]
          },
          "execution_count": 49,
          "metadata": {},
          "output_type": "execute_result"
        }
      ],
      "source": [
        "importances.head(10)"
      ]
    },
    {
      "cell_type": "markdown",
      "metadata": {
        "id": "nbwwY9xYsIkr"
      },
      "source": [
        "#### 로지스틱 회귀분석"
      ]
    },
    {
      "cell_type": "code",
      "execution_count": null,
      "metadata": {
        "id": "VK-qJIygsIkr"
      },
      "outputs": [],
      "source": [
        "model_logit = LogisticRegression()"
      ]
    },
    {
      "cell_type": "code",
      "execution_count": null,
      "metadata": {
        "id": "1JuO1rMHsIkr",
        "outputId": "1875d65c-b108-46d4-f854-c95fdbe55dcf"
      },
      "outputs": [
        {
          "data": {
            "text/plain": [
              "LogisticRegression(C=1.0, class_weight=None, dual=False, fit_intercept=True,\n",
              "          intercept_scaling=1, max_iter=100, multi_class='ovr', n_jobs=1,\n",
              "          penalty='l2', random_state=None, solver='liblinear', tol=0.0001,\n",
              "          verbose=0, warm_start=False)"
            ]
          },
          "execution_count": 51,
          "metadata": {},
          "output_type": "execute_result"
        }
      ],
      "source": [
        "model_logit.fit(x_train_scaled, y_resampled)"
      ]
    },
    {
      "cell_type": "code",
      "execution_count": null,
      "metadata": {
        "id": "4X2DAABHsIks"
      },
      "outputs": [],
      "source": [
        "model_logit_pred = model_logit.predict(x_test_scaled)"
      ]
    },
    {
      "cell_type": "code",
      "execution_count": null,
      "metadata": {
        "id": "grYT9s9WsIks",
        "outputId": "6884598b-8e67-4067-d41c-54825b699909"
      },
      "outputs": [
        {
          "data": {
            "text/plain": [
              "0.7621831072226569"
            ]
          },
          "execution_count": 53,
          "metadata": {},
          "output_type": "execute_result"
        }
      ],
      "source": [
        "accuracy_score(y_test, model_logit_pred)"
      ]
    },
    {
      "cell_type": "code",
      "execution_count": null,
      "metadata": {
        "id": "H_chnOGYsIks",
        "outputId": "fc88586b-481b-40bc-e224-eb7886c0422d"
      },
      "outputs": [
        {
          "data": {
            "text/plain": [
              "array([[79034, 24503],\n",
              "       [  722,  1810]], dtype=int64)"
            ]
          },
          "execution_count": 54,
          "metadata": {},
          "output_type": "execute_result"
        }
      ],
      "source": [
        "confusion_matrix(y_test, model_logit_pred)"
      ]
    },
    {
      "cell_type": "code",
      "execution_count": null,
      "metadata": {
        "id": "hSztEOQmsIks",
        "outputId": "2f0cd922-1583-42b6-dc6a-9d84c6f9a39e"
      },
      "outputs": [
        {
          "name": "stderr",
          "output_type": "stream",
          "text": [
            "C:\\ProgramData\\Anaconda3\\lib\\site-packages\\ipykernel_launcher.py:5: SettingWithCopyWarning: \n",
            "A value is trying to be set on a copy of a slice from a DataFrame.\n",
            "Try using .loc[row_indexer,col_indexer] = value instead\n",
            "\n",
            "See the caveats in the documentation: http://pandas.pydata.org/pandas-docs/stable/indexing.html#indexing-view-versus-copy\n",
            "  \"\"\"\n",
            "C:\\ProgramData\\Anaconda3\\lib\\site-packages\\ipykernel_launcher.py:7: SettingWithCopyWarning: \n",
            "A value is trying to be set on a copy of a slice from a DataFrame.\n",
            "Try using .loc[row_indexer,col_indexer] = value instead\n",
            "\n",
            "See the caveats in the documentation: http://pandas.pydata.org/pandas-docs/stable/indexing.html#indexing-view-versus-copy\n",
            "  import sys\n"
          ]
        },
        {
          "data": {
            "text/html": [
              "<div>\n",
              "<style scoped>\n",
              "    .dataframe tbody tr th:only-of-type {\n",
              "        vertical-align: middle;\n",
              "    }\n",
              "\n",
              "    .dataframe tbody tr th {\n",
              "        vertical-align: top;\n",
              "    }\n",
              "\n",
              "    .dataframe thead th {\n",
              "        text-align: right;\n",
              "    }\n",
              "</style>\n",
              "<table border=\"1\" class=\"dataframe\">\n",
              "  <thead>\n",
              "    <tr style=\"text-align: right;\">\n",
              "      <th></th>\n",
              "      <th>seq</th>\n",
              "      <th>TARGET</th>\n",
              "    </tr>\n",
              "    <tr>\n",
              "      <th>flag</th>\n",
              "      <th></th>\n",
              "      <th></th>\n",
              "    </tr>\n",
              "  </thead>\n",
              "  <tbody>\n",
              "    <tr>\n",
              "      <th>0</th>\n",
              "      <td>10607</td>\n",
              "      <td>9</td>\n",
              "    </tr>\n",
              "    <tr>\n",
              "      <th>1</th>\n",
              "      <td>10607</td>\n",
              "      <td>38</td>\n",
              "    </tr>\n",
              "    <tr>\n",
              "      <th>2</th>\n",
              "      <td>10607</td>\n",
              "      <td>54</td>\n",
              "    </tr>\n",
              "    <tr>\n",
              "      <th>3</th>\n",
              "      <td>10607</td>\n",
              "      <td>53</td>\n",
              "    </tr>\n",
              "    <tr>\n",
              "      <th>4</th>\n",
              "      <td>10607</td>\n",
              "      <td>92</td>\n",
              "    </tr>\n",
              "    <tr>\n",
              "      <th>5</th>\n",
              "      <td>10607</td>\n",
              "      <td>141</td>\n",
              "    </tr>\n",
              "    <tr>\n",
              "      <th>6</th>\n",
              "      <td>10607</td>\n",
              "      <td>190</td>\n",
              "    </tr>\n",
              "    <tr>\n",
              "      <th>7</th>\n",
              "      <td>10607</td>\n",
              "      <td>335</td>\n",
              "    </tr>\n",
              "    <tr>\n",
              "      <th>8</th>\n",
              "      <td>10607</td>\n",
              "      <td>579</td>\n",
              "    </tr>\n",
              "    <tr>\n",
              "      <th>9</th>\n",
              "      <td>10606</td>\n",
              "      <td>1041</td>\n",
              "    </tr>\n",
              "  </tbody>\n",
              "</table>\n",
              "</div>"
            ],
            "text/plain": [
              "        seq  TARGET\n",
              "flag               \n",
              "0     10607       9\n",
              "1     10607      38\n",
              "2     10607      54\n",
              "3     10607      53\n",
              "4     10607      92\n",
              "5     10607     141\n",
              "6     10607     190\n",
              "7     10607     335\n",
              "8     10607     579\n",
              "9     10606    1041"
            ]
          },
          "execution_count": 55,
          "metadata": {},
          "output_type": "execute_result"
        }
      ],
      "source": [
        "prob(model_logit)"
      ]
    },
    {
      "cell_type": "code",
      "execution_count": null,
      "metadata": {
        "id": "7MNo2iEtsIks"
      },
      "outputs": [],
      "source": []
    },
    {
      "cell_type": "code",
      "execution_count": null,
      "metadata": {
        "id": "wtKnH-H5sIks",
        "outputId": "dd46a8ef-6d07-47d5-be4b-315aa2f4bf67"
      },
      "outputs": [
        {
          "name": "stderr",
          "output_type": "stream",
          "text": [
            "C:\\ProgramData\\Anaconda3\\lib\\site-packages\\ipykernel_launcher.py:4: SettingWithCopyWarning: \n",
            "A value is trying to be set on a copy of a slice from a DataFrame.\n",
            "Try using .loc[row_indexer,col_indexer] = value instead\n",
            "\n",
            "See the caveats in the documentation: http://pandas.pydata.org/pandas-docs/stable/indexing.html#indexing-view-versus-copy\n",
            "  after removing the cwd from sys.path.\n",
            "C:\\ProgramData\\Anaconda3\\lib\\site-packages\\ipykernel_launcher.py:5: SettingWithCopyWarning: \n",
            "A value is trying to be set on a copy of a slice from a DataFrame.\n",
            "Try using .loc[row_indexer,col_indexer] = value instead\n",
            "\n",
            "See the caveats in the documentation: http://pandas.pydata.org/pandas-docs/stable/indexing.html#indexing-view-versus-copy\n",
            "  \"\"\"\n"
          ]
        },
        {
          "data": {
            "text/html": [
              "<div>\n",
              "<style scoped>\n",
              "    .dataframe tbody tr th:only-of-type {\n",
              "        vertical-align: middle;\n",
              "    }\n",
              "\n",
              "    .dataframe tbody tr th {\n",
              "        vertical-align: top;\n",
              "    }\n",
              "\n",
              "    .dataframe thead th {\n",
              "        text-align: right;\n",
              "    }\n",
              "</style>\n",
              "<table border=\"1\" class=\"dataframe\">\n",
              "  <thead>\n",
              "    <tr style=\"text-align: right;\">\n",
              "      <th></th>\n",
              "      <th>seq</th>\n",
              "      <th>TARGET</th>\n",
              "      <th>T_WY2_DANG_INP_FE</th>\n",
              "      <th>T_WY2_FUR_INS_AM</th>\n",
              "      <th>profit</th>\n",
              "      <th>ProfitByCS</th>\n",
              "    </tr>\n",
              "    <tr>\n",
              "      <th>flag</th>\n",
              "      <th></th>\n",
              "      <th></th>\n",
              "      <th></th>\n",
              "      <th></th>\n",
              "      <th></th>\n",
              "      <th></th>\n",
              "    </tr>\n",
              "  </thead>\n",
              "  <tbody>\n",
              "    <tr>\n",
              "      <th>0</th>\n",
              "      <td>10607</td>\n",
              "      <td>9</td>\n",
              "      <td>891120904</td>\n",
              "      <td>575610000</td>\n",
              "      <td>315510904</td>\n",
              "      <td>29745.536344</td>\n",
              "    </tr>\n",
              "    <tr>\n",
              "      <th>1</th>\n",
              "      <td>10607</td>\n",
              "      <td>38</td>\n",
              "      <td>708622734</td>\n",
              "      <td>395991252</td>\n",
              "      <td>312631482</td>\n",
              "      <td>29474.072028</td>\n",
              "    </tr>\n",
              "    <tr>\n",
              "      <th>2</th>\n",
              "      <td>10607</td>\n",
              "      <td>54</td>\n",
              "      <td>775230590</td>\n",
              "      <td>417043135</td>\n",
              "      <td>358187455</td>\n",
              "      <td>33768.969077</td>\n",
              "    </tr>\n",
              "    <tr>\n",
              "      <th>3</th>\n",
              "      <td>10607</td>\n",
              "      <td>53</td>\n",
              "      <td>889535289</td>\n",
              "      <td>611920812</td>\n",
              "      <td>277614477</td>\n",
              "      <td>26172.761101</td>\n",
              "    </tr>\n",
              "    <tr>\n",
              "      <th>4</th>\n",
              "      <td>10607</td>\n",
              "      <td>92</td>\n",
              "      <td>976458430</td>\n",
              "      <td>456726630</td>\n",
              "      <td>519731800</td>\n",
              "      <td>48998.944094</td>\n",
              "    </tr>\n",
              "    <tr>\n",
              "      <th>5</th>\n",
              "      <td>10607</td>\n",
              "      <td>141</td>\n",
              "      <td>1033995822</td>\n",
              "      <td>429238634</td>\n",
              "      <td>604757188</td>\n",
              "      <td>57014.913548</td>\n",
              "    </tr>\n",
              "    <tr>\n",
              "      <th>6</th>\n",
              "      <td>10607</td>\n",
              "      <td>190</td>\n",
              "      <td>1126976193</td>\n",
              "      <td>526862158</td>\n",
              "      <td>600114035</td>\n",
              "      <td>56577.169322</td>\n",
              "    </tr>\n",
              "    <tr>\n",
              "      <th>7</th>\n",
              "      <td>10607</td>\n",
              "      <td>335</td>\n",
              "      <td>1226174369</td>\n",
              "      <td>557721578</td>\n",
              "      <td>668452791</td>\n",
              "      <td>63019.967097</td>\n",
              "    </tr>\n",
              "    <tr>\n",
              "      <th>8</th>\n",
              "      <td>10607</td>\n",
              "      <td>579</td>\n",
              "      <td>1771288072</td>\n",
              "      <td>669296954</td>\n",
              "      <td>1101991118</td>\n",
              "      <td>103892.817762</td>\n",
              "    </tr>\n",
              "    <tr>\n",
              "      <th>9</th>\n",
              "      <td>10606</td>\n",
              "      <td>1041</td>\n",
              "      <td>3651497819</td>\n",
              "      <td>1171836031</td>\n",
              "      <td>2479661788</td>\n",
              "      <td>233798.018857</td>\n",
              "    </tr>\n",
              "  </tbody>\n",
              "</table>\n",
              "</div>"
            ],
            "text/plain": [
              "        seq  TARGET  T_WY2_DANG_INP_FE  T_WY2_FUR_INS_AM      profit  \\\n",
              "flag                                                                   \n",
              "0     10607       9          891120904         575610000   315510904   \n",
              "1     10607      38          708622734         395991252   312631482   \n",
              "2     10607      54          775230590         417043135   358187455   \n",
              "3     10607      53          889535289         611920812   277614477   \n",
              "4     10607      92          976458430         456726630   519731800   \n",
              "5     10607     141         1033995822         429238634   604757188   \n",
              "6     10607     190         1126976193         526862158   600114035   \n",
              "7     10607     335         1226174369         557721578   668452791   \n",
              "8     10607     579         1771288072         669296954  1101991118   \n",
              "9     10606    1041         3651497819        1171836031  2479661788   \n",
              "\n",
              "         ProfitByCS  \n",
              "flag                 \n",
              "0      29745.536344  \n",
              "1      29474.072028  \n",
              "2      33768.969077  \n",
              "3      26172.761101  \n",
              "4      48998.944094  \n",
              "5      57014.913548  \n",
              "6      56577.169322  \n",
              "7      63019.967097  \n",
              "8     103892.817762  \n",
              "9     233798.018857  "
            ]
          },
          "execution_count": 56,
          "metadata": {},
          "output_type": "execute_result"
        }
      ],
      "source": [
        "proba = model_logit.predict_proba(x_test_scaled)\n",
        "proba[:,1]\n",
        "prdict_prob = x_test\n",
        "prdict_prob['TARGET'] = y_test\n",
        "prdict_prob['proba'] = proba[:,1]\n",
        "# prdict_prob.to_excel('prdict_prob.xlsx')\n",
        "\n",
        "prdict_prob = prdict_prob.sort_values(by = 'proba') #확률기준 정렬하기\n",
        "prdict_prob['seq'] = range(len(prdict_prob)) # 순번\n",
        "prdict_prob['flag'] = (prdict_prob['seq']/(len(prdict_prob)/10)).values # 분위수\n",
        "prdict_prob = prdict_prob.astype({'flag': int}) # int값으로 변환\n",
        "# prdict_prob.groupby(['flag']).agg({'seq':'count', 'TARGET':'sum'}) # 집계\n",
        "\n",
        "data_tmp = data[['T_WY2_FUR_INS_AM','INON_NO']]\n",
        "prdict_prob = pd.merge(prdict_prob, data_tmp, left_index = True, right_index = True, how = 'left')\n",
        "# prdict_prob.groupby(['flag']).agg({'seq':'count', 'TARGET':'sum', 'T_WY2_DANG_INP_FE':'sum', 'T_WY2_FUR_INS_AM': 'sum' }) # 집계\n",
        "prdict_prob['profit'] = prdict_prob['T_WY2_DANG_INP_FE']-prdict_prob['T_WY2_FUR_INS_AM']\n",
        "prdict_prob2 = prdict_prob.groupby(['flag']).agg({'seq':'count', 'TARGET':'sum', 'T_WY2_DANG_INP_FE':'sum', 'T_WY2_FUR_INS_AM': 'sum','profit':'sum' }) # 집계\n",
        "prdict_prob2['ProfitByCS'] = prdict_prob2['profit']/prdict_prob2['seq']\n",
        "prdict_prob2"
      ]
    },
    {
      "cell_type": "code",
      "execution_count": null,
      "metadata": {
        "id": "PcY0YCzgsIkt",
        "outputId": "d93b3513-60e3-44c0-926e-9676c321f6d4"
      },
      "outputs": [
        {
          "data": {
            "image/png": "[encoded data removed]",
            "text/plain": [
              "<Figure size 432x288 with 1 Axes>"
            ]
          },
          "metadata": {
            "needs_background": "light"
          },
          "output_type": "display_data"
        },
        {
          "data": {
            "text/plain": [
              "<Figure size 432x288 with 0 Axes>"
            ]
          },
          "metadata": {},
          "output_type": "display_data"
        }
      ],
      "source": [
        "## ROC curve\n",
        "fpr, tpr,_ = roc_curve(y_test,model_logit_pred )\n",
        "plt.plot(fpr, tpr)\n",
        "plt.plot([0,1],[0,1],'--',color = 'black')\n",
        "plt.title('ROC Curve')\n",
        "plt.xlabel('False Positive Rate')\n",
        "plt.ylabel('True Positive Rate')\n",
        "plt.show()\n",
        "plt.clf()"
      ]
    },
    {
      "cell_type": "code",
      "execution_count": null,
      "metadata": {
        "id": "O0OGu8uHsIkt",
        "outputId": "6db104c8-720a-44aa-e689-ded0688087a3"
      },
      "outputs": [
        {
          "data": {
            "text/plain": [
              "0.7390952812604286"
            ]
          },
          "execution_count": 58,
          "metadata": {},
          "output_type": "execute_result"
        }
      ],
      "source": [
        "roc_auc_score(y_test,model_logit_pred )"
      ]
    },
    {
      "cell_type": "code",
      "execution_count": null,
      "metadata": {
        "id": "bb1Mx72RsIku"
      },
      "outputs": [],
      "source": []
    },
    {
      "cell_type": "code",
      "execution_count": null,
      "metadata": {
        "id": "WzeoATN5sIku"
      },
      "outputs": [],
      "source": []
    },
    {
      "cell_type": "markdown",
      "metadata": {
        "id": "SiFS9r2asIku"
      },
      "source": [
        "#### KNN"
      ]
    },
    {
      "cell_type": "code",
      "execution_count": null,
      "metadata": {
        "id": "QsVDCQiEsIku"
      },
      "outputs": [],
      "source": [
        "# model_kn = KNeighborsClassifier(n_neighbors = 5)\n",
        "# model_kn.fit(x_train_scaled, y_resampled)\n",
        "# model_kn_pred = model_kn.predict(x_test_scaled)\n",
        "# confusion_matrix(y_test, model_kn_pred)\n",
        "# prob(model_kn)"
      ]
    },
    {
      "cell_type": "markdown",
      "metadata": {
        "id": "jqoTkpMvsIku"
      },
      "source": [
        "### SVM"
      ]
    },
    {
      "cell_type": "code",
      "execution_count": null,
      "metadata": {
        "id": "K2CcQT6VsIkv"
      },
      "outputs": [],
      "source": [
        "clf = SVC(kernel = 'linear', C = 1.0)"
      ]
    },
    {
      "cell_type": "code",
      "execution_count": null,
      "metadata": {
        "id": "MAB_0M54sIkv",
        "outputId": "21e5b534-203b-478d-c6e3-b693020b157d"
      },
      "outputs": [
        {
          "data": {
            "text/plain": [
              "SVC(C=1.0, cache_size=200, class_weight=None, coef0=0.0,\n",
              "  decision_function_shape='ovr', degree=3, gamma='auto', kernel='linear',\n",
              "  max_iter=-1, probability=False, random_state=None, shrinking=True,\n",
              "  tol=0.001, verbose=False)"
            ]
          },
          "execution_count": 61,
          "metadata": {},
          "output_type": "execute_result"
        }
      ],
      "source": [
        "clf.fit (x_train_scaled, y_resampled)"
      ]
    },
    {
      "cell_type": "code",
      "execution_count": null,
      "metadata": {
        "id": "ui0OThNzsIkv"
      },
      "outputs": [],
      "source": [
        "model_svc_pred = clf.predict(x_test_scaled)"
      ]
    },
    {
      "cell_type": "code",
      "execution_count": null,
      "metadata": {
        "id": "u_ehEggcsIkv",
        "outputId": "e86d1181-080e-48fd-f40f-09e46747f953"
      },
      "outputs": [
        {
          "data": {
            "text/plain": [
              "array([[78643, 24894],\n",
              "       [  688,  1844]], dtype=int64)"
            ]
          },
          "execution_count": 63,
          "metadata": {},
          "output_type": "execute_result"
        }
      ],
      "source": [
        "confusion_matrix(y_test, model_svc_pred)"
      ]
    },
    {
      "cell_type": "markdown",
      "metadata": {
        "id": "eAdowR8_sIkv"
      },
      "source": [
        "# 앙상블"
      ]
    },
    {
      "cell_type": "code",
      "execution_count": null,
      "metadata": {
        "id": "WYDett_qsIkw"
      },
      "outputs": [],
      "source": [
        "single_models = [\n",
        "    ('MLP', mlp),\n",
        "#     ('logistic',model_logit ), \n",
        "    ('randomforest',rf_classifier), \n",
        "    ('tree', dtc), \n",
        "#     ('svc', clf)\n",
        "]"
      ]
    },
    {
      "cell_type": "code",
      "execution_count": null,
      "metadata": {
        "id": "kNfXCQ_9sIkw"
      },
      "outputs": [],
      "source": [
        "voting_classifier = VotingClassifier(single_models, n_jobs = -1)"
      ]
    },
    {
      "cell_type": "code",
      "execution_count": null,
      "metadata": {
        "id": "oOs53ACDsIkw",
        "outputId": "69168905-0562-4682-ad6e-fdfaf2b3e02e"
      },
      "outputs": [
        {
          "data": {
            "text/plain": [
              "VotingClassifier(estimators=[('MLP', MLPClassifier(activation='relu', alpha=0.01, batch_size=100, beta_1=0.9,\n",
              "       beta_2=0.999, early_stopping=False, epsilon=1e-08,\n",
              "       hidden_layer_sizes=(5, 3), learning_rate='constant',\n",
              "       learning_rate_init=0.015, max_iter=1000, momentum=0.9,\n",
              "       nesterovs_momentum=T...        min_weight_fraction_leaf=0.0, presort=False, random_state=20,\n",
              "            splitter='best'))],\n",
              "         flatten_transform=None, n_jobs=-1, voting='hard', weights=None)"
            ]
          },
          "execution_count": 106,
          "metadata": {},
          "output_type": "execute_result"
        }
      ],
      "source": [
        "voting_classifier.fit(x_train_scaled, y_resampled)"
      ]
    },
    {
      "cell_type": "code",
      "execution_count": null,
      "metadata": {
        "id": "_f66gSZwsIkw",
        "outputId": "d3ed5677-df25-41f5-89ed-f31ed009d721"
      },
      "outputs": [
        {
          "name": "stderr",
          "output_type": "stream",
          "text": [
            "C:\\ProgramData\\Anaconda3\\lib\\site-packages\\sklearn\\preprocessing\\label.py:151: DeprecationWarning: The truth value of an empty array is ambiguous. Returning False, but in future this will result in an error. Use `array.size > 0` to check that an array is not empty.\n",
            "  if diff:\n"
          ]
        }
      ],
      "source": [
        "model_voting_pred = voting_classifier.predict(x_test_scaled)"
      ]
    },
    {
      "cell_type": "code",
      "execution_count": null,
      "metadata": {
        "id": "z0F5GC_AsIkw",
        "outputId": "f7fcd2d0-a5ce-45e6-8709-e30e4fab5853"
      },
      "outputs": [
        {
          "data": {
            "text/plain": [
              "array([[79584, 23953],\n",
              "       [  478,  2054]], dtype=int64)"
            ]
          },
          "execution_count": 108,
          "metadata": {},
          "output_type": "execute_result"
        }
      ],
      "source": [
        "confusion_matrix(y_test, model_voting_pred)"
      ]
    },
    {
      "cell_type": "code",
      "execution_count": null,
      "metadata": {
        "id": "RZUUNpDEsIkx",
        "outputId": "4aa90779-b6b8-44f3-810a-c983f8e7a139"
      },
      "outputs": [
        {
          "data": {
            "text/plain": [
              "0.7696688004977892"
            ]
          },
          "execution_count": 109,
          "metadata": {},
          "output_type": "execute_result"
        }
      ],
      "source": [
        "accuracy_score(y_test, model_voting_pred)"
      ]
    },
    {
      "cell_type": "code",
      "execution_count": null,
      "metadata": {
        "id": "SCmSo8AZsIkx"
      },
      "outputs": [],
      "source": []
    },
    {
      "cell_type": "code",
      "execution_count": null,
      "metadata": {
        "id": "cINef0ZJsIkx"
      },
      "outputs": [],
      "source": []
    },
    {
      "cell_type": "code",
      "execution_count": null,
      "metadata": {
        "id": "ffLPccwesIkx"
      },
      "outputs": [],
      "source": []
    }
  ],
  "metadata": {
    "kernelspec": {
      "display_name": "Python 3",
      "language": "python",
      "name": "python3"
    },
    "language_info": {
      "codemirror_mode": {
        "name": "ipython",
        "version": 3
      },
      "file_extension": ".py",
      "mimetype": "text/x-python",
      "name": "python",
      "nbconvert_exporter": "python",
      "pygments_lexer": "ipython3",
      "version": "3.7.0"
    },
    "colab": {
      "provenance": [],
      "include_colab_link": true
    }
  },
  "nbformat": 4,
  "nbformat_minor": 0
}